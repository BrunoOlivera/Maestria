{
 "cells": [
  {
   "cell_type": "markdown",
   "metadata": {},
   "source": [
    "# Clase 6\n",
    "Aplicaremos métodos de clustering para tratar de analizar un conjunto de respuestas a una encuesta política."
   ]
  },
  {
   "cell_type": "code",
   "execution_count": 1,
   "metadata": {
    "collapsed": false
   },
   "outputs": [
    {
     "name": "stdout",
     "output_type": "stream",
     "text": [
      "Populating the interactive namespace from numpy and matplotlib\n"
     ]
    }
   ],
   "source": [
    "%pylab inline\n",
    "import pandas as pd\n",
    "import IPython\n",
    "import sklearn as sk\n",
    "from sklearn import cluster\n",
    "from sklearn import decomposition\n",
    "from sklearn import metrics\n",
    "import numpy as np\n",
    "import matplotlib\n",
    "import matplotlib.pyplot as plt"
   ]
  },
  {
   "cell_type": "markdown",
   "metadata": {},
   "source": [
    "# Carga de datos\n",
    "Los datos vienen en un archivo CSV. Ya incluimos la carga del archivo y otros datos de referencia."
   ]
  },
  {
   "cell_type": "code",
   "execution_count": 2,
   "metadata": {
    "collapsed": false
   },
   "outputs": [
    {
     "ename": "FileNotFoundError",
     "evalue": "File b'./data.csv' does not exist",
     "output_type": "error",
     "traceback": [
      "\u001b[0;31m---------------------------------------------------------------------------\u001b[0m",
      "\u001b[0;31mFileNotFoundError\u001b[0m                         Traceback (most recent call last)",
      "\u001b[0;32m<ipython-input-2-2d081147e4e9>\u001b[0m in \u001b[0;36m<module>\u001b[0;34m()\u001b[0m\n\u001b[1;32m      1\u001b[0m \u001b[0;31m# Importamos los datos utilizando pandas\u001b[0m\u001b[0;34m\u001b[0m\u001b[0;34m\u001b[0m\u001b[0m\n\u001b[0;32m----> 2\u001b[0;31m \u001b[0mdatos\u001b[0m\u001b[0;34m=\u001b[0m\u001b[0mpd\u001b[0m\u001b[0;34m.\u001b[0m\u001b[0mread_csv\u001b[0m\u001b[0;34m(\u001b[0m\u001b[0;34m\"./data.csv\"\u001b[0m\u001b[0;34m)\u001b[0m\u001b[0;34m\u001b[0m\u001b[0m\n\u001b[0m\u001b[1;32m      3\u001b[0m \u001b[0;34m\u001b[0m\u001b[0m\n\u001b[1;32m      4\u001b[0m \u001b[0;31m# Creo la tabla de candidatos a mano\u001b[0m\u001b[0;34m\u001b[0m\u001b[0;34m\u001b[0m\u001b[0m\n\u001b[1;32m      5\u001b[0m candidatos=pd.DataFrame(\n",
      "\u001b[0;32m/Users/Bruno/anaconda/lib/python3.5/site-packages/pandas/io/parsers.py\u001b[0m in \u001b[0;36mparser_f\u001b[0;34m(filepath_or_buffer, sep, delimiter, header, names, index_col, usecols, squeeze, prefix, mangle_dupe_cols, dtype, engine, converters, true_values, false_values, skipinitialspace, skiprows, nrows, na_values, keep_default_na, na_filter, verbose, skip_blank_lines, parse_dates, infer_datetime_format, keep_date_col, date_parser, dayfirst, iterator, chunksize, compression, thousands, decimal, lineterminator, quotechar, quoting, escapechar, comment, encoding, dialect, tupleize_cols, error_bad_lines, warn_bad_lines, skipfooter, doublequote, delim_whitespace, low_memory, memory_map, float_precision)\u001b[0m\n\u001b[1;32m    676\u001b[0m                     skip_blank_lines=skip_blank_lines)\n\u001b[1;32m    677\u001b[0m \u001b[0;34m\u001b[0m\u001b[0m\n\u001b[0;32m--> 678\u001b[0;31m         \u001b[0;32mreturn\u001b[0m \u001b[0m_read\u001b[0m\u001b[0;34m(\u001b[0m\u001b[0mfilepath_or_buffer\u001b[0m\u001b[0;34m,\u001b[0m \u001b[0mkwds\u001b[0m\u001b[0;34m)\u001b[0m\u001b[0;34m\u001b[0m\u001b[0m\n\u001b[0m\u001b[1;32m    679\u001b[0m \u001b[0;34m\u001b[0m\u001b[0m\n\u001b[1;32m    680\u001b[0m     \u001b[0mparser_f\u001b[0m\u001b[0;34m.\u001b[0m\u001b[0m__name__\u001b[0m \u001b[0;34m=\u001b[0m \u001b[0mname\u001b[0m\u001b[0;34m\u001b[0m\u001b[0m\n",
      "\u001b[0;32m/Users/Bruno/anaconda/lib/python3.5/site-packages/pandas/io/parsers.py\u001b[0m in \u001b[0;36m_read\u001b[0;34m(filepath_or_buffer, kwds)\u001b[0m\n\u001b[1;32m    438\u001b[0m \u001b[0;34m\u001b[0m\u001b[0m\n\u001b[1;32m    439\u001b[0m     \u001b[0;31m# Create the parser.\u001b[0m\u001b[0;34m\u001b[0m\u001b[0;34m\u001b[0m\u001b[0m\n\u001b[0;32m--> 440\u001b[0;31m     \u001b[0mparser\u001b[0m \u001b[0;34m=\u001b[0m \u001b[0mTextFileReader\u001b[0m\u001b[0;34m(\u001b[0m\u001b[0mfilepath_or_buffer\u001b[0m\u001b[0;34m,\u001b[0m \u001b[0;34m**\u001b[0m\u001b[0mkwds\u001b[0m\u001b[0;34m)\u001b[0m\u001b[0;34m\u001b[0m\u001b[0m\n\u001b[0m\u001b[1;32m    441\u001b[0m \u001b[0;34m\u001b[0m\u001b[0m\n\u001b[1;32m    442\u001b[0m     \u001b[0;32mif\u001b[0m \u001b[0mchunksize\u001b[0m \u001b[0;32mor\u001b[0m \u001b[0miterator\u001b[0m\u001b[0;34m:\u001b[0m\u001b[0;34m\u001b[0m\u001b[0m\n",
      "\u001b[0;32m/Users/Bruno/anaconda/lib/python3.5/site-packages/pandas/io/parsers.py\u001b[0m in \u001b[0;36m__init__\u001b[0;34m(self, f, engine, **kwds)\u001b[0m\n\u001b[1;32m    785\u001b[0m             \u001b[0mself\u001b[0m\u001b[0;34m.\u001b[0m\u001b[0moptions\u001b[0m\u001b[0;34m[\u001b[0m\u001b[0;34m'has_index_names'\u001b[0m\u001b[0;34m]\u001b[0m \u001b[0;34m=\u001b[0m \u001b[0mkwds\u001b[0m\u001b[0;34m[\u001b[0m\u001b[0;34m'has_index_names'\u001b[0m\u001b[0;34m]\u001b[0m\u001b[0;34m\u001b[0m\u001b[0m\n\u001b[1;32m    786\u001b[0m \u001b[0;34m\u001b[0m\u001b[0m\n\u001b[0;32m--> 787\u001b[0;31m         \u001b[0mself\u001b[0m\u001b[0;34m.\u001b[0m\u001b[0m_make_engine\u001b[0m\u001b[0;34m(\u001b[0m\u001b[0mself\u001b[0m\u001b[0;34m.\u001b[0m\u001b[0mengine\u001b[0m\u001b[0;34m)\u001b[0m\u001b[0;34m\u001b[0m\u001b[0m\n\u001b[0m\u001b[1;32m    788\u001b[0m \u001b[0;34m\u001b[0m\u001b[0m\n\u001b[1;32m    789\u001b[0m     \u001b[0;32mdef\u001b[0m \u001b[0mclose\u001b[0m\u001b[0;34m(\u001b[0m\u001b[0mself\u001b[0m\u001b[0;34m)\u001b[0m\u001b[0;34m:\u001b[0m\u001b[0;34m\u001b[0m\u001b[0m\n",
      "\u001b[0;32m/Users/Bruno/anaconda/lib/python3.5/site-packages/pandas/io/parsers.py\u001b[0m in \u001b[0;36m_make_engine\u001b[0;34m(self, engine)\u001b[0m\n\u001b[1;32m   1012\u001b[0m     \u001b[0;32mdef\u001b[0m \u001b[0m_make_engine\u001b[0m\u001b[0;34m(\u001b[0m\u001b[0mself\u001b[0m\u001b[0;34m,\u001b[0m \u001b[0mengine\u001b[0m\u001b[0;34m=\u001b[0m\u001b[0;34m'c'\u001b[0m\u001b[0;34m)\u001b[0m\u001b[0;34m:\u001b[0m\u001b[0;34m\u001b[0m\u001b[0m\n\u001b[1;32m   1013\u001b[0m         \u001b[0;32mif\u001b[0m \u001b[0mengine\u001b[0m \u001b[0;34m==\u001b[0m \u001b[0;34m'c'\u001b[0m\u001b[0;34m:\u001b[0m\u001b[0;34m\u001b[0m\u001b[0m\n\u001b[0;32m-> 1014\u001b[0;31m             \u001b[0mself\u001b[0m\u001b[0;34m.\u001b[0m\u001b[0m_engine\u001b[0m \u001b[0;34m=\u001b[0m \u001b[0mCParserWrapper\u001b[0m\u001b[0;34m(\u001b[0m\u001b[0mself\u001b[0m\u001b[0;34m.\u001b[0m\u001b[0mf\u001b[0m\u001b[0;34m,\u001b[0m \u001b[0;34m**\u001b[0m\u001b[0mself\u001b[0m\u001b[0;34m.\u001b[0m\u001b[0moptions\u001b[0m\u001b[0;34m)\u001b[0m\u001b[0;34m\u001b[0m\u001b[0m\n\u001b[0m\u001b[1;32m   1015\u001b[0m         \u001b[0;32melse\u001b[0m\u001b[0;34m:\u001b[0m\u001b[0;34m\u001b[0m\u001b[0m\n\u001b[1;32m   1016\u001b[0m             \u001b[0;32mif\u001b[0m \u001b[0mengine\u001b[0m \u001b[0;34m==\u001b[0m \u001b[0;34m'python'\u001b[0m\u001b[0;34m:\u001b[0m\u001b[0;34m\u001b[0m\u001b[0m\n",
      "\u001b[0;32m/Users/Bruno/anaconda/lib/python3.5/site-packages/pandas/io/parsers.py\u001b[0m in \u001b[0;36m__init__\u001b[0;34m(self, src, **kwds)\u001b[0m\n\u001b[1;32m   1706\u001b[0m         \u001b[0mkwds\u001b[0m\u001b[0;34m[\u001b[0m\u001b[0;34m'usecols'\u001b[0m\u001b[0;34m]\u001b[0m \u001b[0;34m=\u001b[0m \u001b[0mself\u001b[0m\u001b[0;34m.\u001b[0m\u001b[0musecols\u001b[0m\u001b[0;34m\u001b[0m\u001b[0m\n\u001b[1;32m   1707\u001b[0m \u001b[0;34m\u001b[0m\u001b[0m\n\u001b[0;32m-> 1708\u001b[0;31m         \u001b[0mself\u001b[0m\u001b[0;34m.\u001b[0m\u001b[0m_reader\u001b[0m \u001b[0;34m=\u001b[0m \u001b[0mparsers\u001b[0m\u001b[0;34m.\u001b[0m\u001b[0mTextReader\u001b[0m\u001b[0;34m(\u001b[0m\u001b[0msrc\u001b[0m\u001b[0;34m,\u001b[0m \u001b[0;34m**\u001b[0m\u001b[0mkwds\u001b[0m\u001b[0;34m)\u001b[0m\u001b[0;34m\u001b[0m\u001b[0m\n\u001b[0m\u001b[1;32m   1709\u001b[0m \u001b[0;34m\u001b[0m\u001b[0m\n\u001b[1;32m   1710\u001b[0m         \u001b[0mpassed_names\u001b[0m \u001b[0;34m=\u001b[0m \u001b[0mself\u001b[0m\u001b[0;34m.\u001b[0m\u001b[0mnames\u001b[0m \u001b[0;32mis\u001b[0m \u001b[0;32mNone\u001b[0m\u001b[0;34m\u001b[0m\u001b[0m\n",
      "\u001b[0;32mpandas/_libs/parsers.pyx\u001b[0m in \u001b[0;36mpandas._libs.parsers.TextReader.__cinit__\u001b[0;34m()\u001b[0m\n",
      "\u001b[0;32mpandas/_libs/parsers.pyx\u001b[0m in \u001b[0;36mpandas._libs.parsers.TextReader._setup_parser_source\u001b[0;34m()\u001b[0m\n",
      "\u001b[0;31mFileNotFoundError\u001b[0m: File b'./data.csv' does not exist"
     ]
    }
   ],
   "source": [
    "# Importamos los datos utilizando pandas\n",
    "datos=pd.read_csv(\"./data.csv\")\n",
    "\n",
    "# Creo la tabla de candidatos a mano\n",
    "candidatos=pd.DataFrame(\n",
    "    [\n",
    "        [1,'Oscar Andrade', 'Frente Amplio'],\n",
    "        [2,'Mario Bergara', 'Frente Amplio'],\n",
    "        [3,'Carolina Cosse', 'Frente Amplio'],\n",
    "        [4,'Daniel Martínez', 'Frente Amplio'],\n",
    "        [5,'Verónica Alonso', 'Partido Nacional'],\n",
    "        [6,'Enrique Antía', 'Partido Nacional'],\n",
    "        [8,'Carlos Iafigliola', 'Partido Nacional'],\n",
    "        [9,'Luis Lacalle Pou', 'Partido Nacional'],\n",
    "        [10,'Jorge Larrañaga', 'Partido Nacional'],\n",
    "        [11,'Juan Sartori', 'Partido Nacional'],\n",
    "        [12,'José Amorín', 'Partido Colorado'],\n",
    "        [13,'Pedro Etchegaray', 'Partido Colorado'],\n",
    "        [14,'Edgardo Martínez', 'Partido Colorado'],\n",
    "        [15,'Héctor Rovira', 'Partido Colorado'],\n",
    "        [16,'Julio María Sanguinetti', 'Partido Colorado'],\n",
    "        [17,'Ernesto Talvi', 'Partido Colorado'],\n",
    "        [18,'Pablo Mieres', 'La Alternativa'],\n",
    "        [19,'Gonzalo Abella', 'Unidad Popular'],        \n",
    "        [20,'Edgardo Novick', 'Partido de la Gente'],\n",
    "        [21,'César Vega', 'PERI'],\n",
    "        [22,'Rafael Fernández', 'Partido de los Trabajadores'],\n",
    "        [23,'Justin Graside', 'Partido Digital'],        \n",
    "        [24,'Gustavo Salle', 'Partido Verde'],\n",
    "        [25,'Carlos Techera', 'Partido de Todos']\n",
    "    ],\n",
    "    columns=['candidatoId','name','party'],\n",
    ")\n",
    "\n",
    "datos=datos.merge(candidatos,on=['candidatoId'])\n",
    "\n",
    "# Sólo por si necesita, cargamos un diccionario con el texto de cada pregunta\n",
    "preguntas={\n",
    "    '1': 'Controlar la inflación es más importante que controlar el desempleo. ',\n",
    "    '2': 'Hay que reducir la cantidad de funcionarios públicos',\n",
    "    '3': 'Deberia aumentar la carga de impuestos para los ricos.',\n",
    "    '4': 'El gobierno no debe proteger la industria nacional, si las fábricas no son competitivas esta bien que desaparezcan.',\n",
    "    '5': 'La ley de inclusión financiera es positiva para la sociedad. ',\n",
    "    '6': 'Algunos sindicatos tienen demasiado poder. ',\n",
    "    '7': 'Cuanto más libre es el mercado, más libre es la gente. ',\n",
    "    '8': 'El campo es y debe ser el motor productivo de Uruguay. ',\n",
    "    '9': 'La inversión extranjera es vital para que Uruguay alcance el desarrollo. ',\n",
    "    '10': 'Los supermercados abusan del pueblo con sus precios excesivos. ',\n",
    "    '11': 'Con la vigilancia gubernamental (escuchas telefonicas, e-mails y camaras de seguridad) el que no tiene nada que esconder, no tiene de que preocuparse. ',\n",
    "    '12': 'La pena de muerte debería ser una opción para los crímenes mas serios. ',\n",
    "    '13': 'Uruguay debería aprobar más leyes anti corrupción y ser más duro con los culpables. ',\n",
    "    '14': 'Las FF.AA. deberían tener un rol activo en la seguridad pública. ',\n",
    "    '15': 'Las carceles deberían ser administradas por organizaciones privadas. ',\n",
    "    '16': 'Hay que aumentar el salario de los policias significativamente. ',\n",
    "    '17': 'Para los delitos más graves hay que bajar la edad de imputabilidad a 16 años. ',\n",
    "    '18': 'Uruguay no necesita un ejército. ',\n",
    "    '19': 'Uruguay es demasiado generoso con los inmigrantes. ',\n",
    "    '20': 'La ley trans fue un error. ',\n",
    "    '21': 'El feminismo moderno no busca la igualdad sino el poder. ',\n",
    "    '22': 'Para la ley no deberia diferenciarse homicidio de femicidio. ',\n",
    "    '23': 'La separación de estado y religión me parece importante. ',\n",
    "    '24': 'La legalización de la marihuana fue un error. ',\n",
    "    '25': 'La legalización del aborto fue un error. ',\n",
    "    '26': 'El foco del próximo gobierno debe ser mejorar la educación pública. '\n",
    "}\n",
    "\n",
    "# Ordeno los datos por partido y luego por candidato\n",
    "\n",
    "datos = datos.sort_values(by=['party','name'])\n"
   ]
  },
  {
   "cell_type": "markdown",
   "metadata": {},
   "source": [
    "Cada fila es la respuesta de una persona, contiene un id único, el candidate que eligió, las repuestas a las 26 preguntas y la fecha. Además le agregamos el nombre del candidato y el partido al que pertenece.\n",
    "\n",
    "Imprimimos algunos datos de prueba para asegurarnos de que quedaron bien cargados."
   ]
  },
  {
   "cell_type": "code",
   "execution_count": 6,
   "metadata": {
    "collapsed": false
   },
   "outputs": [
    {
     "data": {
      "text/html": [
       "<div>\n",
       "<style scoped>\n",
       "    .dataframe tbody tr th:only-of-type {\n",
       "        vertical-align: middle;\n",
       "    }\n",
       "\n",
       "    .dataframe tbody tr th {\n",
       "        vertical-align: top;\n",
       "    }\n",
       "\n",
       "    .dataframe thead th {\n",
       "        text-align: right;\n",
       "    }\n",
       "</style>\n",
       "<table border=\"1\" class=\"dataframe\">\n",
       "  <thead>\n",
       "    <tr style=\"text-align: right;\">\n",
       "      <th></th>\n",
       "      <th>id</th>\n",
       "      <th>candidatoId</th>\n",
       "      <th>1</th>\n",
       "      <th>2</th>\n",
       "      <th>3</th>\n",
       "      <th>4</th>\n",
       "      <th>5</th>\n",
       "      <th>6</th>\n",
       "      <th>7</th>\n",
       "      <th>8</th>\n",
       "      <th>...</th>\n",
       "      <th>20</th>\n",
       "      <th>21</th>\n",
       "      <th>22</th>\n",
       "      <th>23</th>\n",
       "      <th>24</th>\n",
       "      <th>25</th>\n",
       "      <th>26</th>\n",
       "      <th>fecha</th>\n",
       "      <th>name</th>\n",
       "      <th>party</th>\n",
       "    </tr>\n",
       "  </thead>\n",
       "  <tbody>\n",
       "    <tr>\n",
       "      <th>21387</th>\n",
       "      <td>38</td>\n",
       "      <td>3</td>\n",
       "      <td>4</td>\n",
       "      <td>4</td>\n",
       "      <td>3</td>\n",
       "      <td>4</td>\n",
       "      <td>5</td>\n",
       "      <td>5</td>\n",
       "      <td>3</td>\n",
       "      <td>2</td>\n",
       "      <td>...</td>\n",
       "      <td>1</td>\n",
       "      <td>1</td>\n",
       "      <td>1</td>\n",
       "      <td>5</td>\n",
       "      <td>1</td>\n",
       "      <td>1</td>\n",
       "      <td>5</td>\n",
       "      <td>2019-02-06T16:52:06.318997</td>\n",
       "      <td>Carolina Cosse</td>\n",
       "      <td>Frente Amplio</td>\n",
       "    </tr>\n",
       "    <tr>\n",
       "      <th>21388</th>\n",
       "      <td>39</td>\n",
       "      <td>3</td>\n",
       "      <td>3</td>\n",
       "      <td>4</td>\n",
       "      <td>5</td>\n",
       "      <td>2</td>\n",
       "      <td>4</td>\n",
       "      <td>4</td>\n",
       "      <td>2</td>\n",
       "      <td>2</td>\n",
       "      <td>...</td>\n",
       "      <td>1</td>\n",
       "      <td>1</td>\n",
       "      <td>2</td>\n",
       "      <td>5</td>\n",
       "      <td>1</td>\n",
       "      <td>1</td>\n",
       "      <td>3</td>\n",
       "      <td>2019-02-06T17:00:09.220160</td>\n",
       "      <td>Carolina Cosse</td>\n",
       "      <td>Frente Amplio</td>\n",
       "    </tr>\n",
       "    <tr>\n",
       "      <th>21389</th>\n",
       "      <td>41</td>\n",
       "      <td>3</td>\n",
       "      <td>2</td>\n",
       "      <td>3</td>\n",
       "      <td>4</td>\n",
       "      <td>2</td>\n",
       "      <td>4</td>\n",
       "      <td>4</td>\n",
       "      <td>2</td>\n",
       "      <td>2</td>\n",
       "      <td>...</td>\n",
       "      <td>1</td>\n",
       "      <td>2</td>\n",
       "      <td>2</td>\n",
       "      <td>5</td>\n",
       "      <td>1</td>\n",
       "      <td>1</td>\n",
       "      <td>4</td>\n",
       "      <td>2019-02-06T17:14:33.621159</td>\n",
       "      <td>Carolina Cosse</td>\n",
       "      <td>Frente Amplio</td>\n",
       "    </tr>\n",
       "    <tr>\n",
       "      <th>21390</th>\n",
       "      <td>42</td>\n",
       "      <td>3</td>\n",
       "      <td>4</td>\n",
       "      <td>4</td>\n",
       "      <td>3</td>\n",
       "      <td>4</td>\n",
       "      <td>4</td>\n",
       "      <td>4</td>\n",
       "      <td>3</td>\n",
       "      <td>3</td>\n",
       "      <td>...</td>\n",
       "      <td>3</td>\n",
       "      <td>3</td>\n",
       "      <td>2</td>\n",
       "      <td>5</td>\n",
       "      <td>2</td>\n",
       "      <td>2</td>\n",
       "      <td>4</td>\n",
       "      <td>2019-02-06T17:44:43.482259</td>\n",
       "      <td>Carolina Cosse</td>\n",
       "      <td>Frente Amplio</td>\n",
       "    </tr>\n",
       "    <tr>\n",
       "      <th>21391</th>\n",
       "      <td>44</td>\n",
       "      <td>3</td>\n",
       "      <td>4</td>\n",
       "      <td>5</td>\n",
       "      <td>3</td>\n",
       "      <td>3</td>\n",
       "      <td>4</td>\n",
       "      <td>5</td>\n",
       "      <td>5</td>\n",
       "      <td>4</td>\n",
       "      <td>...</td>\n",
       "      <td>2</td>\n",
       "      <td>4</td>\n",
       "      <td>4</td>\n",
       "      <td>5</td>\n",
       "      <td>2</td>\n",
       "      <td>1</td>\n",
       "      <td>5</td>\n",
       "      <td>2019-02-06T18:30:28.400279</td>\n",
       "      <td>Carolina Cosse</td>\n",
       "      <td>Frente Amplio</td>\n",
       "    </tr>\n",
       "    <tr>\n",
       "      <th>21392</th>\n",
       "      <td>47</td>\n",
       "      <td>3</td>\n",
       "      <td>2</td>\n",
       "      <td>5</td>\n",
       "      <td>5</td>\n",
       "      <td>1</td>\n",
       "      <td>4</td>\n",
       "      <td>5</td>\n",
       "      <td>1</td>\n",
       "      <td>1</td>\n",
       "      <td>...</td>\n",
       "      <td>1</td>\n",
       "      <td>1</td>\n",
       "      <td>1</td>\n",
       "      <td>5</td>\n",
       "      <td>1</td>\n",
       "      <td>1</td>\n",
       "      <td>5</td>\n",
       "      <td>2019-02-06T22:02:08.552799</td>\n",
       "      <td>Carolina Cosse</td>\n",
       "      <td>Frente Amplio</td>\n",
       "    </tr>\n",
       "    <tr>\n",
       "      <th>21393</th>\n",
       "      <td>48</td>\n",
       "      <td>3</td>\n",
       "      <td>3</td>\n",
       "      <td>5</td>\n",
       "      <td>5</td>\n",
       "      <td>1</td>\n",
       "      <td>2</td>\n",
       "      <td>5</td>\n",
       "      <td>4</td>\n",
       "      <td>4</td>\n",
       "      <td>...</td>\n",
       "      <td>2</td>\n",
       "      <td>4</td>\n",
       "      <td>5</td>\n",
       "      <td>5</td>\n",
       "      <td>1</td>\n",
       "      <td>1</td>\n",
       "      <td>5</td>\n",
       "      <td>2019-02-07T03:45:47.511548</td>\n",
       "      <td>Carolina Cosse</td>\n",
       "      <td>Frente Amplio</td>\n",
       "    </tr>\n",
       "    <tr>\n",
       "      <th>21394</th>\n",
       "      <td>57</td>\n",
       "      <td>3</td>\n",
       "      <td>2</td>\n",
       "      <td>2</td>\n",
       "      <td>5</td>\n",
       "      <td>2</td>\n",
       "      <td>3</td>\n",
       "      <td>2</td>\n",
       "      <td>1</td>\n",
       "      <td>4</td>\n",
       "      <td>...</td>\n",
       "      <td>1</td>\n",
       "      <td>1</td>\n",
       "      <td>1</td>\n",
       "      <td>5</td>\n",
       "      <td>1</td>\n",
       "      <td>1</td>\n",
       "      <td>4</td>\n",
       "      <td>2019-02-07T15:10:43.354845</td>\n",
       "      <td>Carolina Cosse</td>\n",
       "      <td>Frente Amplio</td>\n",
       "    </tr>\n",
       "    <tr>\n",
       "      <th>21395</th>\n",
       "      <td>60</td>\n",
       "      <td>3</td>\n",
       "      <td>3</td>\n",
       "      <td>2</td>\n",
       "      <td>5</td>\n",
       "      <td>3</td>\n",
       "      <td>4</td>\n",
       "      <td>3</td>\n",
       "      <td>2</td>\n",
       "      <td>3</td>\n",
       "      <td>...</td>\n",
       "      <td>1</td>\n",
       "      <td>2</td>\n",
       "      <td>5</td>\n",
       "      <td>5</td>\n",
       "      <td>1</td>\n",
       "      <td>1</td>\n",
       "      <td>5</td>\n",
       "      <td>2019-02-07T15:20:58.874500</td>\n",
       "      <td>Carolina Cosse</td>\n",
       "      <td>Frente Amplio</td>\n",
       "    </tr>\n",
       "    <tr>\n",
       "      <th>21396</th>\n",
       "      <td>87</td>\n",
       "      <td>3</td>\n",
       "      <td>3</td>\n",
       "      <td>4</td>\n",
       "      <td>5</td>\n",
       "      <td>2</td>\n",
       "      <td>4</td>\n",
       "      <td>4</td>\n",
       "      <td>1</td>\n",
       "      <td>2</td>\n",
       "      <td>...</td>\n",
       "      <td>1</td>\n",
       "      <td>1</td>\n",
       "      <td>1</td>\n",
       "      <td>5</td>\n",
       "      <td>1</td>\n",
       "      <td>1</td>\n",
       "      <td>5</td>\n",
       "      <td>2019-02-07T17:40:44.657643</td>\n",
       "      <td>Carolina Cosse</td>\n",
       "      <td>Frente Amplio</td>\n",
       "    </tr>\n",
       "  </tbody>\n",
       "</table>\n",
       "<p>10 rows × 31 columns</p>\n",
       "</div>"
      ],
      "text/plain": [
       "       id  candidatoId  1  2  3  4  5  6  7  8      ...        20  21  22  23  \\\n",
       "21387  38            3  4  4  3  4  5  5  3  2      ...         1   1   1   5   \n",
       "21388  39            3  3  4  5  2  4  4  2  2      ...         1   1   2   5   \n",
       "21389  41            3  2  3  4  2  4  4  2  2      ...         1   2   2   5   \n",
       "21390  42            3  4  4  3  4  4  4  3  3      ...         3   3   2   5   \n",
       "21391  44            3  4  5  3  3  4  5  5  4      ...         2   4   4   5   \n",
       "21392  47            3  2  5  5  1  4  5  1  1      ...         1   1   1   5   \n",
       "21393  48            3  3  5  5  1  2  5  4  4      ...         2   4   5   5   \n",
       "21394  57            3  2  2  5  2  3  2  1  4      ...         1   1   1   5   \n",
       "21395  60            3  3  2  5  3  4  3  2  3      ...         1   2   5   5   \n",
       "21396  87            3  3  4  5  2  4  4  1  2      ...         1   1   1   5   \n",
       "\n",
       "       24  25  26                       fecha            name          party  \n",
       "21387   1   1   5  2019-02-06T16:52:06.318997  Carolina Cosse  Frente Amplio  \n",
       "21388   1   1   3  2019-02-06T17:00:09.220160  Carolina Cosse  Frente Amplio  \n",
       "21389   1   1   4  2019-02-06T17:14:33.621159  Carolina Cosse  Frente Amplio  \n",
       "21390   2   2   4  2019-02-06T17:44:43.482259  Carolina Cosse  Frente Amplio  \n",
       "21391   2   1   5  2019-02-06T18:30:28.400279  Carolina Cosse  Frente Amplio  \n",
       "21392   1   1   5  2019-02-06T22:02:08.552799  Carolina Cosse  Frente Amplio  \n",
       "21393   1   1   5  2019-02-07T03:45:47.511548  Carolina Cosse  Frente Amplio  \n",
       "21394   1   1   4  2019-02-07T15:10:43.354845  Carolina Cosse  Frente Amplio  \n",
       "21395   1   1   5  2019-02-07T15:20:58.874500  Carolina Cosse  Frente Amplio  \n",
       "21396   1   1   5  2019-02-07T17:40:44.657643  Carolina Cosse  Frente Amplio  \n",
       "\n",
       "[10 rows x 31 columns]"
      ]
     },
     "execution_count": 6,
     "metadata": {},
     "output_type": "execute_result"
    }
   ],
   "source": [
    "datos[:10]"
   ]
  },
  {
   "cell_type": "markdown",
   "metadata": {},
   "source": [
    "**IMPLEMENTAR:** Dibujar un gráfico de barras con la distribución de votos por partido."
   ]
  },
  {
   "cell_type": "code",
   "execution_count": 1,
   "metadata": {
    "collapsed": true
   },
   "outputs": [],
   "source": [
    "partidos,num_votos = #implementar"
   ]
  },
  {
   "cell_type": "markdown",
   "metadata": {},
   "source": [
    "**IMPLEMENTAR:** Obtener los siguientes conjuntos de datos:\n",
    "- Un conjunto con todos los votos\n",
    "- Un conjunto análogo al anterior, pero solo con los votos del Frente Amplio\n",
    "- Un conjunto análogo al anterior, pero solo con los votos del Partido Nacional\n",
    "- Un conjunto análogo al anterior, pero solo con los votos del Partido Colorado"
   ]
  },
  {
   "cell_type": "code",
   "execution_count": 2,
   "metadata": {
    "collapsed": true
   },
   "outputs": [],
   "source": [
    "votos = #implementar\n",
    "votos_fa = #implementar\n",
    "votos_pn = #implementar\n",
    "votos_pc = #implementar"
   ]
  },
  {
   "cell_type": "markdown",
   "metadata": {},
   "source": [
    "# PCA\n",
    "Utilizaremos la técnica de PCA para poder visualizar mejor los datos y luego los resultados del clustering.\n",
    "\n",
    "El siguiente código creará una transformación a dos dimensiones de los datos y definirá el método plot_pca_data() para visualizar los votos en dos dimensiones. El método toma como entrada una lista de pares (datos,color), lo que permitirá visualizar diferentes resultados en el mismo gráfico.\n",
    "\n",
    "Uso: _plot_pca_data([(conjunto1,color1), (conjunto2,color2), ...])_\n",
    "\n",
    "Donde _color_ puede ser 'r', 'g', 'b', 'y', 'k', etc.\n",
    "\n",
    "Opcionalmente, podemos indicar un conjunto de centroides a dibujar: _plot_pca_data([(conjunto1,color1), (conjunto2,color2), ...], centroides)_"
   ]
  },
  {
   "cell_type": "code",
   "execution_count": 50,
   "metadata": {
    "collapsed": true
   },
   "outputs": [],
   "source": [
    "pca = decomposition.PCA(n_components=2).fit(votos)\n",
    "\n",
    "def plot_pca_data(data_list=[],centroids=None):\n",
    "    plt.figure(figsize=(15,10))\n",
    "    plt.clf()\n",
    "    x_min,x_max,y_min,y_max = np.inf,-np.inf,np.inf,-np.inf\n",
    "\n",
    "    for data,color in data_list:\n",
    "        reduced = pca.transform(data)\n",
    "        x_min = min(x_min,reduced[:, 0].min() - 1)\n",
    "        x_max = max(x_max,reduced[:, 0].max() + 1)\n",
    "        y_min = min(y_min,reduced[:, 1].min() - 1)\n",
    "        y_max = max(y_max,reduced[:, 1].max() + 1)\n",
    "        plt.plot(reduced[:, 0], reduced[:, 1], color + '.', markersize=1)\n",
    "\n",
    "    if centroids is not None:\n",
    "        r_centroids = pca.transform(centroids)\n",
    "        plt.scatter(r_centroids[:,0], r_centroids[:,1], marker='.', s=169, linewidths=3, color='w', zorder=10)\n",
    "\n",
    "    plt.xlim(x_min, x_max)\n",
    "    plt.ylim(y_min, y_max)\n",
    "    plt.show()"
   ]
  },
  {
   "cell_type": "markdown",
   "metadata": {},
   "source": [
    "**IMPLEMENTAR:** Dibuje un gráfico de todos los votos."
   ]
  },
  {
   "cell_type": "code",
   "execution_count": 3,
   "metadata": {
    "collapsed": true
   },
   "outputs": [],
   "source": [
    "#implementar"
   ]
  },
  {
   "cell_type": "markdown",
   "metadata": {},
   "source": [
    "**IMPLEMENTAR:** Dibuje un gráfico de los votos del Frente Amplio, Partido Nacional y Partido Colorado con diferentes colores para poder visualizarlos mejor."
   ]
  },
  {
   "cell_type": "code",
   "execution_count": 4,
   "metadata": {
    "collapsed": true
   },
   "outputs": [],
   "source": [
    "#implementar"
   ]
  },
  {
   "cell_type": "markdown",
   "metadata": {},
   "source": [
    "# Clustering\n",
    "\n",
    "Aplicaremos el algoritmo de K-means para clusterizar estos datos. Primero intentaremos encontrar la mejor cantidad de clusters K para este conjunto.\n",
    "\n",
    "**IMPLEMENTAR:** Realice el clustering de K-means para diferentes valores de K y grafique el costo de cada clustering (inertia)."
   ]
  },
  {
   "cell_type": "code",
   "execution_count": 5,
   "metadata": {
    "collapsed": true
   },
   "outputs": [],
   "source": [
    "for k in range(2,10):\n",
    "    #implementar"
   ]
  },
  {
   "cell_type": "markdown",
   "metadata": {},
   "source": [
    "**IMPLEMENTAR:** Otra técnica que puede servir es medir el coeficiente de silueta. Realice el clustering de K-means para diferentes valores de K y grafique el coeficiente de silueta para cada uno."
   ]
  },
  {
   "cell_type": "code",
   "execution_count": 6,
   "metadata": {
    "collapsed": true
   },
   "outputs": [],
   "source": [
    "for k in range(2,10):\n",
    "    #implementar"
   ]
  },
  {
   "cell_type": "markdown",
   "metadata": {},
   "source": [
    "**IMPLEMENTAR** Realice el clustering con K-means para K=2, imprima SSE y coeficiente de silueta y grafique los resultados en dos colores junto con sus centroides."
   ]
  },
  {
   "cell_type": "code",
   "execution_count": 7,
   "metadata": {
    "collapsed": true
   },
   "outputs": [],
   "source": [
    "#implementar"
   ]
  },
  {
   "cell_type": "markdown",
   "metadata": {},
   "source": [
    "**IMPLEMENTAR** Realice el clustering con K-means para K=3, imprima SSE y coeficiente de silueta y grafique los resultados en tres colores junto con sus centroides."
   ]
  },
  {
   "cell_type": "code",
   "execution_count": 8,
   "metadata": {
    "collapsed": true
   },
   "outputs": [],
   "source": [
    "#implementar"
   ]
  },
  {
   "cell_type": "markdown",
   "metadata": {},
   "source": [
    "**IMPLEMENTAR:** Realice el clustering con AgglomerativeClustering para K=3, imprima coeficiente de silueta y grafique los resultados en tres colores.\n",
    "\n",
    "**NOTA:** Este proceso puede ser lento y consumir recursos. Puede resultar útil reducir la cantidad de datos para aplicarlo."
   ]
  },
  {
   "cell_type": "code",
   "execution_count": 15,
   "metadata": {
    "collapsed": true
   },
   "outputs": [],
   "source": [
    "#implementar"
   ]
  },
  {
   "cell_type": "markdown",
   "metadata": {},
   "source": [
    "**OPCIONAL:** Realice un dendograma del conjunto de datos. En este caso necesitará realizar un muestreo para reducir la cantidad de datos debido a que no podrá visualizarse el árbol completo."
   ]
  },
  {
   "cell_type": "code",
   "execution_count": 9,
   "metadata": {
    "collapsed": true
   },
   "outputs": [],
   "source": [
    "from scipy.cluster.hierarchy import dendrogram, linkage\n",
    "#opcional"
   ]
  },
  {
   "cell_type": "markdown",
   "metadata": {},
   "source": [
    "# Análisis supervisado\n",
    "Hasta el momento no tuvimos en cuenta las etiquetas, pero podemos utilizar las etiquetas para tener una idea si los clusters encontrados se parecen a conjuntos conocidos.\n",
    "\n",
    "**IMPLEMENTAR** Construya un conjunto de votos formado solo por los votos del Frente Amplio, el Partido Nacional y el Partido Colorado. Construya un array que represente las etiquetas para esos votos (usando las etiquetas 0, 1 y 2)."
   ]
  },
  {
   "cell_type": "code",
   "execution_count": 10,
   "metadata": {
    "collapsed": true
   },
   "outputs": [],
   "source": [
    "votos_tres = #implementar\n",
    "etiquetas_tres = #implementar"
   ]
  },
  {
   "cell_type": "markdown",
   "metadata": {},
   "source": [
    "**IMPLEMENTAR:** Realice el clustering K-means con K=3 para el conjunto construido. Imprima los valores de SSE y coeficiente de silueta. Utilizando el conjunto de etiquetas esperadas, imprima los valores de Índice de Rand Ajustado, Homogeneidad, Completitud y medida V."
   ]
  },
  {
   "cell_type": "code",
   "execution_count": 11,
   "metadata": {
    "collapsed": true
   },
   "outputs": [],
   "source": [
    "#implementar"
   ]
  },
  {
   "cell_type": "markdown",
   "metadata": {},
   "source": [
    "**IMPLEMENTAR:** Imprima la matriz de confusión de las etiquetas devueltas por el clustering y las etiquetas esperadas. ¿Qué problema puede tener esta matriz?\n"
   ]
  },
  {
   "cell_type": "code",
   "execution_count": 12,
   "metadata": {
    "collapsed": true
   },
   "outputs": [],
   "source": [
    "#implementar"
   ]
  },
  {
   "cell_type": "markdown",
   "metadata": {},
   "source": [
    "¿Es posible distinguir alguno de los tres partidos respecto a los otros dos utilizando clustering?\n",
    "\n",
    "**IMPLEMENTAR:** Construya tres conjuntos con etiquetas uno-contra-el-resto (FA/PN-PC, PN/FA-PC, PC/FA-PN), realice el clustering con K=2 para los votos e imprima los resultados de Índice Rand Ajustado, Homogeneidad, Completitud y medida V para los tres conjuntos de etiquetas."
   ]
  },
  {
   "cell_type": "code",
   "execution_count": 13,
   "metadata": {
    "collapsed": true
   },
   "outputs": [],
   "source": [
    "#implementar"
   ]
  },
  {
   "cell_type": "markdown",
   "metadata": {},
   "source": [
    "**OPCIONAL:** Realice AgglomerativeClustering usando el conjunto de tres partidos e imprima Índice Rand Ajustado, Homogeneidad, Completitud y medida V respecto a las etiquetas esperadas."
   ]
  },
  {
   "cell_type": "code",
   "execution_count": 14,
   "metadata": {
    "collapsed": true
   },
   "outputs": [],
   "source": [
    "#implementar"
   ]
  },
  {
   "cell_type": "markdown",
   "metadata": {},
   "source": [
    "# K-means para clasificar\n",
    "\n",
    "**OPCIONAL:** Es posible utilizar K-means como para clasificar además de clusterizar. Realice una partición del conjunto de votos de tres partidos en 75% entrenamiento y 25% test. Realice clustering de K-means con K=3 y utilícelo para predecir el conjunto de test. Evalúe precisión, recall, medida F e imprima la matriz de confusión. ¿Cómo podría mejorar estos resultados?"
   ]
  },
  {
   "cell_type": "code",
   "execution_count": null,
   "metadata": {
    "collapsed": true
   },
   "outputs": [],
   "source": [
    "#opcional"
   ]
  }
 ],
 "metadata": {
  "anaconda-cloud": {},
  "kernelspec": {
   "display_name": "Python [default]",
   "language": "python",
   "name": "python3"
  },
  "language_info": {
   "codemirror_mode": {
    "name": "ipython",
    "version": 3
   },
   "file_extension": ".py",
   "mimetype": "text/x-python",
   "name": "python",
   "nbconvert_exporter": "python",
   "pygments_lexer": "ipython3",
   "version": "3.5.2"
  }
 },
 "nbformat": 4,
 "nbformat_minor": 2
}
