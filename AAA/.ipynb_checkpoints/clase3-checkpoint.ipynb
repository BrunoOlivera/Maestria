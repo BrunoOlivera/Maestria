{
 "cells": [
  {
   "cell_type": "markdown",
   "metadata": {},
   "source": [
    "# Clase 3 - Clasificación y manipulación de atributos\n",
    "En esta clase vamos a aplicar métodos bayesianos y árboles de decisión."
   ]
  },
  {
   "cell_type": "markdown",
   "metadata": {},
   "source": [
    "Primero revisamos que todas las librerías estén instaladas.  "
   ]
  },
  {
   "cell_type": "code",
   "execution_count": 1,
   "metadata": {
    "collapsed": false
   },
   "outputs": [
    {
     "name": "stdout",
     "output_type": "stream",
     "text": [
      "Populating the interactive namespace from numpy and matplotlib\n",
      "Python version: 3.5.2 |Anaconda 4.2.0 (x86_64)| (default, Jul  2 2016, 17:52:12) \n",
      "[GCC 4.2.1 Compatible Apple LLVM 4.2 (clang-425.0.28)]\n",
      "IPython version: 5.1.0\n",
      "numpy version: 1.13.1\n",
      "scikit-learn version: 0.19.0\n",
      "matplotlib version: 2.0.2\n"
     ]
    }
   ],
   "source": [
    "%pylab inline\n",
    "import IPython\n",
    "import sklearn as sk\n",
    "import numpy as np\n",
    "import matplotlib\n",
    "import matplotlib.pyplot as plt\n",
    "import pydotplus\n",
    "\n",
    "import sys\n",
    "print('Python version:', sys.version)\n",
    "\n",
    "print('IPython version:', IPython.__version__)\n",
    "print('numpy version:', np.__version__)\n",
    "print('scikit-learn version:', sk.__version__)\n",
    "print('matplotlib version:', matplotlib.__version__)\n",
    "\n",
    "\n",
    "RANDOM_STATE=14"
   ]
  },
  {
   "cell_type": "markdown",
   "metadata": {},
   "source": [
    "## Importación y procesamiento de datos\n",
    "En todo proyecto de aprendizaje automático es fundamental manejar el conjunto de datos.\n",
    "Es importante tener una noción del conjunto de datos, para saber, entre otras cosas:\n",
    "* Qué atributos son numéricos, y cuáles son categóricos.\n",
    "* Si hace falta normalizar los atributos (depende del algoritmo a utilizar también)\n",
    "* La presencia de atributos faltantes."
   ]
  },
  {
   "cell_type": "markdown",
   "metadata": {},
   "source": [
    "### Importación\n",
    "Primero importamos los datos.  \n",
    "La primera parte de esta clase va a consistir en analizar y modificar el corpus para utilizarlo.  \n",
    "Primero tenemos que importar el corpus."
   ]
  },
  {
   "cell_type": "code",
   "execution_count": null,
   "metadata": {
    "collapsed": true
   },
   "outputs": [],
   "source": [
    "import pandas as pd\n"
   ]
  },
  {
   "cell_type": "markdown",
   "metadata": {},
   "source": [
    "Vamos a hacer un análisis de datos.\n",
    "¿Qué tipos de datos tenemos? ¿Qué valores faltan?"
   ]
  },
  {
   "cell_type": "code",
   "execution_count": null,
   "metadata": {
    "collapsed": true
   },
   "outputs": [],
   "source": []
  },
  {
   "cell_type": "markdown",
   "metadata": {},
   "source": [
    "El atributo 'age' tiene valores faltantes, cómo se pueden manejar?"
   ]
  },
  {
   "cell_type": "code",
   "execution_count": null,
   "metadata": {
    "collapsed": true
   },
   "outputs": [],
   "source": []
  },
  {
   "cell_type": "markdown",
   "metadata": {},
   "source": [
    "Pueden contar la cantidad de valores únicos que tiene embarked room."
   ]
  },
  {
   "cell_type": "code",
   "execution_count": null,
   "metadata": {
    "collapsed": true
   },
   "outputs": [],
   "source": []
  },
  {
   "cell_type": "markdown",
   "metadata": {},
   "source": [
    "Para saber si terminamos, revisar que no haya atributos faltantes."
   ]
  },
  {
   "cell_type": "code",
   "execution_count": null,
   "metadata": {
    "collapsed": true
   },
   "outputs": [],
   "source": []
  },
  {
   "cell_type": "markdown",
   "metadata": {},
   "source": [
    "Es necesario realizar One-Hot-Encoding, dado que el árbol de decisión no permite atributos categóricos no binarios. Para ello es importante utilizar un label-encoder antes."
   ]
  },
  {
   "cell_type": "code",
   "execution_count": null,
   "metadata": {
    "collapsed": true
   },
   "outputs": [],
   "source": [
    "data_tree = "
   ]
  },
  {
   "cell_type": "code",
   "execution_count": null,
   "metadata": {
    "collapsed": true
   },
   "outputs": [],
   "source": []
  },
  {
   "cell_type": "markdown",
   "metadata": {},
   "source": [
    "### División en conjunto de entrenamiento y testeo.\n",
    "\n",
    "Es importante no utilizar el conjunto de testeo hasta el final, para evitar sobreajuste a la hora de evaluar modelos.\n",
    "No vamos a usar el conjunto de test hasta que hallamos elegido un modelo de Decision Tree y uno de Naïve Bayes, para evitar el sobreajuste.\n",
    "Recuerden fijar el atributo "
   ]
  },
  {
   "cell_type": "code",
   "execution_count": null,
   "metadata": {
    "collapsed": true
   },
   "outputs": [],
   "source": [
    "from sklearn.model_selection import train_test_split"
   ]
  },
  {
   "cell_type": "markdown",
   "metadata": {},
   "source": [
    "### El modelo y los hiperparámetros.\n",
    "\n",
    "Acá probamos diferentes versiones de los árboles de decisión, probando con las opciones que nos da scikit."
   ]
  },
  {
   "cell_type": "code",
   "execution_count": null,
   "metadata": {
    "collapsed": true
   },
   "outputs": [],
   "source": []
  },
  {
   "cell_type": "markdown",
   "metadata": {},
   "source": [
    "### Elección del modelo.\n",
    "\n",
    "Utilizamos cross validation para elegir el mejor modelo."
   ]
  },
  {
   "cell_type": "code",
   "execution_count": null,
   "metadata": {
    "collapsed": true
   },
   "outputs": [],
   "source": [
    "from sklearn.model_selection import cross_val_score"
   ]
  },
  {
   "cell_type": "markdown",
   "metadata": {},
   "source": [
    "Elegimos el clasificador que da más F1-score y evaluamos."
   ]
  },
  {
   "cell_type": "code",
   "execution_count": null,
   "metadata": {
    "collapsed": true
   },
   "outputs": [],
   "source": [
    "from sklearn import tree"
   ]
  },
  {
   "cell_type": "markdown",
   "metadata": {},
   "source": [
    "Una vez que tenemos un árbol entrenado, podemos imprimirlo con el siguiente código."
   ]
  },
  {
   "cell_type": "code",
   "execution_count": null,
   "metadata": {
    "collapsed": true
   },
   "outputs": [],
   "source": [
    "from sklearn.externals.six import StringIO  \n",
    "import pydotplus\n",
    "\n",
    "\n",
    "dot_data = StringIO() \n",
    "tree.export_graphviz(decision_tree, out_file=dot_data, \n",
    "                     feature_names=X_train.columns.values, class_names=['survived', 'did not survive']) \n",
    "from IPython.core.display import Image \n",
    "graph = pydotplus.graph_from_dot_data(dot_data.getvalue())  \n",
    "Image(graph.create_png())\n"
   ]
  },
  {
   "cell_type": "markdown",
   "metadata": {},
   "source": [
    "## Clasificador Bayesiano para el corpus del titanic.\n",
    "Naïve Bayes acepta atributos categóricos, por lo que no es necesario realizar One-Hot Encoding.\n",
    "Sí es necesario convertir a atributos numéricos."
   ]
  },
  {
   "cell_type": "code",
   "execution_count": null,
   "metadata": {
    "collapsed": true
   },
   "outputs": [],
   "source": []
  },
  {
   "cell_type": "markdown",
   "metadata": {},
   "source": [
    "Nuevamente pueden probar con los distintos tipos de aprendizaje bayesiano, y elegir el que crean mejor."
   ]
  },
  {
   "cell_type": "code",
   "execution_count": null,
   "metadata": {
    "collapsed": true
   },
   "outputs": [],
   "source": []
  },
  {
   "cell_type": "markdown",
   "metadata": {},
   "source": [
    "Una vez que eligen el más apropiado para el problema, se guarda para evaluar contra el árbol de decisión."
   ]
  },
  {
   "cell_type": "code",
   "execution_count": null,
   "metadata": {
    "collapsed": true
   },
   "outputs": [],
   "source": [
    "naive_bayes = "
   ]
  },
  {
   "cell_type": "markdown",
   "metadata": {},
   "source": [
    "## Evaluación\n",
    "Para simplificar la evaluación, pueden crear una función que muestre los resultados al correrse con un conjunto de datos.  \n",
    "Esto se puede reusar en futuras clases."
   ]
  },
  {
   "cell_type": "code",
   "execution_count": null,
   "metadata": {
    "collapsed": true
   },
   "outputs": [],
   "source": [
    "from sklearn import metrics\n",
    "def measure_performance(X,y,clf, ...):\n",
    "    "
   ]
  },
  {
   "cell_type": "markdown",
   "metadata": {},
   "source": [
    "## El dataset de los atletas\n",
    "Ahora vamos a aplicar lo aprendido para un dataset, esta vez depende de ustedes tomar las decisiones que quieran tomar.\n",
    "\n",
    "La idea es clasificar un corpus de atletas, tratando de predecir las medallas obtenidas en las olimpíadas."
   ]
  },
  {
   "cell_type": "code",
   "execution_count": null,
   "metadata": {
    "collapsed": true
   },
   "outputs": [],
   "source": [
    "athletes = pd.read_csv('athlete_events_train.csv')"
   ]
  }
 ],
 "metadata": {
  "anaconda-cloud": {},
  "kernelspec": {
   "display_name": "Python [default]",
   "language": "python",
   "name": "python3"
  },
  "language_info": {
   "codemirror_mode": {
    "name": "ipython",
    "version": 3
   },
   "file_extension": ".py",
   "mimetype": "text/x-python",
   "name": "python",
   "nbconvert_exporter": "python",
   "pygments_lexer": "ipython3",
   "version": "3.5.2"
  }
 },
 "nbformat": 4,
 "nbformat_minor": 2
}
