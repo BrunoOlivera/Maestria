{
 "cells": [
  {
   "cell_type": "markdown",
   "metadata": {},
   "source": [
    "#  AAA 2019 -  Laboratorio  - CPAP\n",
    "\n",
    "El objetivo del laboratorio es implementar un clasificador sobre las imágenes del Fashion MNIST dataset.\n",
    "\n",
    "\n",
    "El laboratorio, al igual que el curso, se divide en dos grandes bloques. En el primero se espera que utilicen algun clasificador provisto por sckit learn, mientras que en el segundo, se busca que utilicen redes neuronales. \n",
    "\n",
    "El objetivo es obtener un modelo que maximice la medida F macro sobre el conjunto de test."
   ]
  },
  {
   "cell_type": "markdown",
   "metadata": {},
   "source": [
    "## Importación de librerías"
   ]
  },
  {
   "cell_type": "code",
   "execution_count": 1,
   "metadata": {
    "collapsed": true
   },
   "outputs": [],
   "source": [
    "import numpy as np\n",
    "import pandas as pd\n",
    "import matplotlib.pyplot as plt\n",
    "from IPython.display import Image\n",
    "from matplotlib import pyplot\n",
    "\n",
    "import sklearn as sk\n",
    "import tensorflow as tf\n",
    "from tensorflow import keras\n"
   ]
  },
  {
   "cell_type": "markdown",
   "metadata": {},
   "source": [
    "## Importación de datos\n",
    "\n",
    "El conjunto de datos a utilizar es el Fashion MNIST que está disponible a través de Keras"
   ]
  },
  {
   "cell_type": "code",
   "execution_count": null,
   "metadata": {
    "collapsed": false
   },
   "outputs": [
    {
     "name": "stderr",
     "output_type": "stream",
     "text": [
      "Using TensorFlow backend.\n"
     ]
    },
    {
     "name": "stdout",
     "output_type": "stream",
     "text": [
      "Downloading data from http://fashion-mnist.s3-website.eu-central-1.amazonaws.com/train-labels-idx1-ubyte.gz\n",
      "32768/29515 [=================================] - 2s 61us/step\n",
      "Downloading data from http://fashion-mnist.s3-website.eu-central-1.amazonaws.com/train-images-idx3-ubyte.gz\n",
      "  442368/26421880 [..............................] - ETA: 34:08"
     ]
    }
   ],
   "source": [
    "from keras.datasets import fashion_mnist\n",
    "\n",
    "(trainX, trainY), (testX, testY) = fashion_mnist.load_data()"
   ]
  },
  {
   "cell_type": "markdown",
   "metadata": {},
   "source": [
    "## Parte uno - Métodos de clasificación implementados en scikit-learn\n",
    "En esta parte deben implementar un clasificador utilizando alguno de los algoritmos de clasificación vistos en clase.\n",
    "\n",
    "Alguna de las etapas que se espera desarrollen, son las siguientes:\n",
    "\n",
    "* Preprocesamiento de los datos y selección de atributos, según entienda necesario\n",
    "* Elección de los algoritmos a probar y sus respectivos hiperparámetros\n",
    "* Ajuste de hiperparámetros\n",
    "* Reporte detallado de las desiciones tomadas\n",
    "* Para el mejor clasificador encontrado, reportar los resultados obtenidos sobre el conjunto de test"
   ]
  },
  {
   "cell_type": "code",
   "execution_count": null,
   "metadata": {
    "collapsed": true
   },
   "outputs": [],
   "source": []
  },
  {
   "cell_type": "markdown",
   "metadata": {},
   "source": [
    "## Parte dos - Deep Learning\n",
    "\n",
    "En esta parte se debe entrenar un clasificador de imágenes utilizando redes neuronales.\n",
    "\n",
    "Alguna de las etapas que se espera desarrollen, son las siguientes:\n",
    "\n",
    "* Preprocesamiento de los datos y selección de atributos, según entienda necesario\n",
    "* Elección de la arquitectura a probar\n",
    "* Ajuste de hiperparámetros\n",
    "* Reporte detallado de las desiciones tomadas\n",
    "* Para el mejor clasificador encontrado, reportar los resultados obtenidos sobre el conjunto de test\n",
    "\n",
    "Se valorará la sencillez del modelo elegido"
   ]
  },
  {
   "cell_type": "code",
   "execution_count": null,
   "metadata": {
    "collapsed": true
   },
   "outputs": [],
   "source": []
  },
  {
   "cell_type": "markdown",
   "metadata": {},
   "source": [
    "## Parte tres: Evaluación y Análisis de Resultados\n",
    "\n",
    "Evaluar, de la forma que crean conveniente, los distintos métodos implementados en las partes uno y dos.  \n",
    "\n",
    "Realizar un análisis de los resultados obtenidos en ambas partes, argumentando qué métodos fueron más efectivos en función de las métricas elegidas.  \n",
    "\n",
    "Comparar los resultados de las partes uno y dos."
   ]
  },
  {
   "cell_type": "code",
   "execution_count": null,
   "metadata": {
    "collapsed": true
   },
   "outputs": [],
   "source": []
  }
 ],
 "metadata": {
  "anaconda-cloud": {},
  "kernelspec": {
   "display_name": "Python [default]",
   "language": "python",
   "name": "python3"
  },
  "language_info": {
   "codemirror_mode": {
    "name": "ipython",
    "version": 3
   },
   "file_extension": ".py",
   "mimetype": "text/x-python",
   "name": "python",
   "nbconvert_exporter": "python",
   "pygments_lexer": "ipython3",
   "version": "3.5.2"
  }
 },
 "nbformat": 4,
 "nbformat_minor": 2
}
