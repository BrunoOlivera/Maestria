{
 "cells": [
  {
   "cell_type": "markdown",
   "metadata": {},
   "source": [
    "# Clase 9 (Detección de Humor con Word Embeddings)\n",
    "\n",
    "En esta clase utilizaremos un conjunto de vectores de palabras pre-entrenados y modelos de redes neuronales para detectar humor en textos cortos. A lo largo de este *notebook* definiremos, entrenaremos y evaluaremos modelos neuronales con un conjunto de datos impartido y vectores pre-entrenados.\n",
    "\n",
    "## Cargar Word Embeddings Y Corpus\n",
    "\n",
    "Primero cargaremos el repertorio de vectores y el conjunto de datos. \n",
    "\n",
    "Ejecute el siguiente bloque de código para importar un conjunto de paquetes que serán de utilidad."
   ]
  },
  {
   "cell_type": "code",
   "execution_count": 1,
   "metadata": {
    "collapsed": false
   },
   "outputs": [
    {
     "name": "stdout",
     "output_type": "stream",
     "text": [
      "Populating the interactive namespace from numpy and matplotlib\n"
     ]
    }
   ],
   "source": [
    "%pylab inline\n",
    "import IPython\n",
    "import numpy as np\n",
    "import matplotlib\n",
    "import matplotlib.pyplot as plt"
   ]
  },
  {
   "cell_type": "markdown",
   "metadata": {},
   "source": [
    "### Word Embeddings\n",
    "\n",
    "El repertorio de vectores de palabras se encuentra en el archivo **aaa_humor_vectores.txt**, vamos a descargarlo y cargarlo en memoria en una estructura que sea conveniente.\n",
    "\n",
    "Descargue el archivo de: https://www.fing.edu.uy/~mathiase/cpap/aaa_humor_vectores.txt\n",
    "\n",
    "**Nota:**\n",
    "Este archivo de vectores fue generado utilizando el modelo para el español disponible en: <br>\n",
    "https://dl.fbaipublicfiles.com/fasttext/vectors-crawl/cc.es.300.bin.gz\n",
    "\n",
    "\n",
    "** Ejecute el siguiente bloque para cargar el conjunto de vectores. **"
   ]
  },
  {
   "cell_type": "code",
   "execution_count": 2,
   "metadata": {
    "collapsed": true
   },
   "outputs": [],
   "source": [
    "\n",
    "def load_vectors(filename):\n",
    "  f = open(filename, 'r')\n",
    "  wd2ind, X, ind = dict(), list(), -1\n",
    "  for l in f:\n",
    "    l_split = l.split()\n",
    "    word, vector = l_split[0], list(map(float, l_split[1:]))\n",
    "    wd2ind[word] = ind = ind + 1      \n",
    "    X.append(vector)\n",
    "  f.close()\n",
    "  X.append([0]*len(X[0]))  # vector for <UNK> words \n",
    "  X =  np.array(X)  # convert to numpy.array\n",
    "  wd2vect = lambda x: X[wd2ind.get(x, -1)]\n",
    "  wd2vect.name, wd2vect.dim, wd2vect.X = filename, len(X[0]), X\n",
    "  wd2vect.ind = wd2ind \n",
    "  return wd2vect\n",
    "\n",
    "vectores = load_vectors('./aaa_humor_vectores.txt')\n"
   ]
  },
  {
   "cell_type": "markdown",
   "metadata": {},
   "source": [
    "Ejecute el siguiente bloque para desplegar la cantidad de vectores cargados."
   ]
  },
  {
   "cell_type": "code",
   "execution_count": 3,
   "metadata": {
    "collapsed": false
   },
   "outputs": [
    {
     "data": {
      "text/plain": [
       "35566"
      ]
     },
     "execution_count": 3,
     "metadata": {},
     "output_type": "execute_result"
    }
   ],
   "source": [
    "len(vectores.ind)"
   ]
  },
  {
   "cell_type": "markdown",
   "metadata": {},
   "source": [
    "Ejecute el siguiente bloque para desplegar la dimensión de los vectores cargados."
   ]
  },
  {
   "cell_type": "code",
   "execution_count": 4,
   "metadata": {
    "collapsed": false,
    "scrolled": true
   },
   "outputs": [
    {
     "data": {
      "text/plain": [
       "300"
      ]
     },
     "execution_count": 4,
     "metadata": {},
     "output_type": "execute_result"
    }
   ],
   "source": [
    "vectores.dim"
   ]
  },
  {
   "cell_type": "markdown",
   "metadata": {},
   "source": [
    "Ejecute el siguiente bloque para obtener el vector de la palabra lenguaje."
   ]
  },
  {
   "cell_type": "code",
   "execution_count": 5,
   "metadata": {
    "collapsed": false
   },
   "outputs": [
    {
     "data": {
      "text/plain": [
       "[-0.04734,\n",
       " -0.0024742,\n",
       " 0.018312,\n",
       " 0.0048214,\n",
       " -0.021698,\n",
       " 7.4022e-06,\n",
       " 0.053025,\n",
       " -0.0048587,\n",
       " -0.023624,\n",
       " 0.011403,\n",
       " 0.06944,\n",
       " -0.0015276,\n",
       " -0.082462,\n",
       " -0.06249,\n",
       " -0.062907,\n",
       " 0.062955,\n",
       " -0.013196,\n",
       " -0.033238,\n",
       " 0.0093367,\n",
       " 0.10612,\n",
       " -0.057377,\n",
       " 0.025159,\n",
       " -0.0079073,\n",
       " 0.035248,\n",
       " 0.01892,\n",
       " 0.010016,\n",
       " -0.0035982,\n",
       " 0.019469,\n",
       " 0.00087444,\n",
       " 0.042121,\n",
       " 0.03054,\n",
       " 0.062031,\n",
       " 0.063696,\n",
       " 0.0094161,\n",
       " -0.030604,\n",
       " 0.0017967,\n",
       " 0.015747,\n",
       " -0.0055513,\n",
       " 0.036179,\n",
       " 0.012838,\n",
       " -0.012785,\n",
       " -0.05914,\n",
       " -0.012411,\n",
       " 0.034747,\n",
       " -0.007707,\n",
       " 0.015394,\n",
       " 0.015947,\n",
       " -0.0075885,\n",
       " 0.058565,\n",
       " 0.013553,\n",
       " 0.008315,\n",
       " -0.038522,\n",
       " -0.0073644,\n",
       " -0.039279,\n",
       " 0.014003,\n",
       " 0.010481,\n",
       " -0.015383,\n",
       " 0.021368,\n",
       " -0.010022,\n",
       " -0.0091889,\n",
       " -0.0010203,\n",
       " 0.012559,\n",
       " 0.03262,\n",
       " -0.030173,\n",
       " 0.015476,\n",
       " 0.0082857,\n",
       " -0.013605,\n",
       " -0.0046215,\n",
       " -0.021249,\n",
       " -0.089114,\n",
       " -0.028212,\n",
       " 0.0037297,\n",
       " -0.037939,\n",
       " 0.00045507,\n",
       " -0.022071,\n",
       " 0.016579,\n",
       " 0.030966,\n",
       " -0.021418,\n",
       " -0.021257,\n",
       " -0.046978,\n",
       " -0.021838,\n",
       " -0.021539,\n",
       " -0.036602,\n",
       " 0.059912,\n",
       " -0.038392,\n",
       " 0.042108,\n",
       " 0.024939,\n",
       " 0.020119,\n",
       " 0.0037816,\n",
       " -0.00017541,\n",
       " 0.041139,\n",
       " 0.0041828,\n",
       " 0.020352,\n",
       " -0.088204,\n",
       " 0.027487,\n",
       " 0.0095785,\n",
       " -0.0045064,\n",
       " 0.0099791,\n",
       " -0.043907,\n",
       " -0.045205,\n",
       " 0.035805,\n",
       " -0.0097765,\n",
       " -0.010111,\n",
       " 0.017217,\n",
       " 0.092962,\n",
       " 0.0019604,\n",
       " -0.04839,\n",
       " -0.0055667,\n",
       " 0.060374,\n",
       " 0.044432,\n",
       " 0.0028548,\n",
       " -0.025782,\n",
       " -0.0015588,\n",
       " 0.060903,\n",
       " 0.030934,\n",
       " -0.017553,\n",
       " -0.032311,\n",
       " -0.023252,\n",
       " -0.03362,\n",
       " 0.046177,\n",
       " 0.063307,\n",
       " -0.024841,\n",
       " -0.046863,\n",
       " -0.030841,\n",
       " -0.03118,\n",
       " -0.027598,\n",
       " 0.019001,\n",
       " 0.022697,\n",
       " -0.057941,\n",
       " 0.01419,\n",
       " -0.035237,\n",
       " 0.057543,\n",
       " 0.050659,\n",
       " 0.061134,\n",
       " 0.039807,\n",
       " 0.0025901,\n",
       " 0.028171,\n",
       " 0.024035,\n",
       " 0.093232,\n",
       " 0.024549,\n",
       " 0.0355,\n",
       " 0.019848,\n",
       " 0.014477,\n",
       " 0.027511,\n",
       " -0.055805,\n",
       " -0.048358,\n",
       " -0.032463,\n",
       " -0.0093916,\n",
       " 0.031675,\n",
       " -0.023809,\n",
       " -0.015777,\n",
       " -0.0071348,\n",
       " 0.013223,\n",
       " 0.019941,\n",
       " -0.070811,\n",
       " 0.071472,\n",
       " 0.030129,\n",
       " -0.038217,\n",
       " -0.061868,\n",
       " -0.010817,\n",
       " -0.0083675,\n",
       " 0.062136,\n",
       " -0.020506,\n",
       " -0.033433,\n",
       " 0.012719,\n",
       " 0.020542,\n",
       " 0.068572,\n",
       " -0.035007,\n",
       " 0.010649,\n",
       " 0.069695,\n",
       " -0.018575,\n",
       " 0.0022406,\n",
       " -0.077865,\n",
       " -0.09702,\n",
       " 0.035476,\n",
       " 0.0052386,\n",
       " -0.018282,\n",
       " 0.0059382,\n",
       " 0.049619,\n",
       " -0.011789,\n",
       " 0.011493,\n",
       " 0.0048069,\n",
       " 0.055515,\n",
       " 0.037254,\n",
       " 0.011966,\n",
       " -0.0075754,\n",
       " 0.004868,\n",
       " 0.060382,\n",
       " 0.014049,\n",
       " -0.036384,\n",
       " 0.0069573,\n",
       " 0.022889,\n",
       " 0.068004,\n",
       " -0.010601,\n",
       " 0.0064182,\n",
       " -0.01658,\n",
       " -0.010699,\n",
       " -0.0088604,\n",
       " 0.003984,\n",
       " 0.074063,\n",
       " -0.034242,\n",
       " 0.074342,\n",
       " -0.080481,\n",
       " -0.015578,\n",
       " 0.0086233,\n",
       " 0.017241,\n",
       " -0.046376,\n",
       " -0.077028,\n",
       " 0.0034159,\n",
       " 0.019038,\n",
       " -0.020503,\n",
       " 0.0038579,\n",
       " -0.015521,\n",
       " 0.065012,\n",
       " 0.036152,\n",
       " -0.0037408,\n",
       " 0.0010516,\n",
       " -0.01712,\n",
       " -0.066918,\n",
       " -0.036488,\n",
       " -0.046303,\n",
       " 0.031745,\n",
       " 0.053061,\n",
       " 0.010463,\n",
       " -0.012498,\n",
       " -0.034463,\n",
       " -0.036487,\n",
       " -0.022721,\n",
       " 0.03828,\n",
       " 0.011975,\n",
       " 0.005636,\n",
       " -0.063099,\n",
       " 0.025749,\n",
       " 0.012901,\n",
       " -0.013996,\n",
       " -0.039629,\n",
       " 0.036251,\n",
       " 0.0034294,\n",
       " -0.001501,\n",
       " -0.046723,\n",
       " 0.012664,\n",
       " 0.013701,\n",
       " -0.01163,\n",
       " 0.01658,\n",
       " -0.049488,\n",
       " -0.022199,\n",
       " -0.024277,\n",
       " 0.078796,\n",
       " 0.05148,\n",
       " -0.036646,\n",
       " 0.076481,\n",
       " 0.014304,\n",
       " 0.055406,\n",
       " 0.038979,\n",
       " 0.029035,\n",
       " -0.0086094,\n",
       " 0.04779,\n",
       " 0.024068,\n",
       " 0.014684,\n",
       " 0.027613,\n",
       " -0.014903,\n",
       " -0.050115,\n",
       " -0.044488,\n",
       " -0.042919,\n",
       " -0.00041846,\n",
       " 0.046793,\n",
       " -0.0077649,\n",
       " 0.024193,\n",
       " -0.049008,\n",
       " -0.00097854,\n",
       " 0.038688,\n",
       " -0.0021994,\n",
       " -0.0018032,\n",
       " 0.038797,\n",
       " -0.0082818,\n",
       " -0.078927,\n",
       " -0.011884,\n",
       " 0.029395,\n",
       " -0.073547,\n",
       " 0.0064804,\n",
       " -0.0016439,\n",
       " -0.0023848,\n",
       " 0.027611,\n",
       " 0.0022557,\n",
       " 0.021594,\n",
       " -0.0052608,\n",
       " -0.058577,\n",
       " 0.003574,\n",
       " 0.030812,\n",
       " -0.0092431,\n",
       " 0.0039491,\n",
       " -0.030459,\n",
       " 0.029901,\n",
       " 0.01165,\n",
       " 0.01509,\n",
       " 0.075828,\n",
       " -0.0054699,\n",
       " -0.0058565,\n",
       " -0.016791,\n",
       " 0.011105]"
      ]
     },
     "execution_count": 5,
     "metadata": {},
     "output_type": "execute_result"
    }
   ],
   "source": [
    "vectores('lenguaje')"
   ]
  },
  {
   "cell_type": "markdown",
   "metadata": {},
   "source": [
    "### Corpus de Humor\n",
    "\n",
    "El corpus de humor está fraccionado en tres conjuntos: entrenamiento (*train*), validación (*val*) y evaluación (*test*). Los conjuntos son impartidos en los archivos **data_train.csv**, **data_val.csv** y **data_test.csv**.\n",
    "\n",
    "Primero cargaremos los archivos y los segmentaremos en palabras (*tokenize*).\n",
    "\n",
    "** Complete la asignación que falta en el bloque siguiente para cargar el corpus de humor. **"
   ]
  },
  {
   "cell_type": "code",
   "execution_count": 6,
   "metadata": {
    "collapsed": false
   },
   "outputs": [
    {
     "name": "stdout",
     "output_type": "stream",
     "text": [
      "# train: 16999\n",
      "# val: 2000\n",
      "# test: 5000\n"
     ]
    },
    {
     "data": {
      "text/plain": [
       "[['Niveles',\n",
       "  'de',\n",
       "  'retraso',\n",
       "  'mental',\n",
       "  ':',\n",
       "  '—',\n",
       "  'Bajo',\n",
       "  '.',\n",
       "  '—',\n",
       "  'Medio',\n",
       "  '.',\n",
       "  '—',\n",
       "  'Alto',\n",
       "  '.',\n",
       "  '—',\n",
       "  'Elevado',\n",
       "  '.',\n",
       "  '—',\n",
       "  'Regresar',\n",
       "  'con',\n",
       "  'tu',\n",
       "  'ex',\n",
       "  '.'],\n",
       " '1']"
      ]
     },
     "execution_count": 6,
     "metadata": {},
     "output_type": "execute_result"
    }
   ],
   "source": [
    "import csv\n",
    "import nltk\n",
    "from nltk.tokenize import regexp_tokenize\n",
    "\n",
    "# función para segmentar la entrada en palabras\n",
    "tokenizer = lambda x: regexp_tokenize(x, pattern='[^\\w\\s]|\\w+')\n",
    "\n",
    "def load_corpus(csvfile):\n",
    "    corpus = list()\n",
    "    with open(csvfile) as f:\n",
    "        freader = csv.reader(f, delimiter=',', quotechar='\"')\n",
    "        next(freader, None)  # para escapar los headers\n",
    "        for row in freader:\n",
    "            c_0 = tokenizer(row[0])\n",
    "            c_1 = row[1]\n",
    "            r = [c_0, c_1]\n",
    "            corpus.append(r)\n",
    "    return corpus\n",
    "            \n",
    "train = load_corpus('./data_train.csv')\n",
    "val = load_corpus('./data_val.csv')\n",
    "test = load_corpus('./data_test.csv')\n",
    "\n",
    "print('# train:',len(train)) \n",
    "print('# val:',len(val)) \n",
    "print('# test:',len(test))\n",
    "\n",
    "train[0]"
   ]
  },
  {
   "cell_type": "markdown",
   "metadata": {},
   "source": [
    "### Vectorización de la entrada\n",
    "\n",
    "Ahora utilizando los vectores y los conjuntos de datos, vamos a construir una matriz Nx(L\\*D) para cada conjunto con los vectores correspondientes a las palabras de la entrada, donde N es la cantidad de elementos del conjunto, L el largo máximo de oración y D la dimensión de los vectores de palabras. Además, vamos a construir un vector de dimensión N con las salidas esperadas para cada conjunto.\n",
    "\n",
    "En resumen, vamos a tener:\n",
    "\n",
    "- X_train, y_train\n",
    "- X_val, y_val\n",
    "- X_test, y_test\n",
    "\n",
    "para los conjuntos train, val y test, respectivamente.\n",
    "\n",
    "\n",
    "Pero antes vamos a elegir el largo máximo de oración para armar las formas matriciales de nuestros conjuntos de datos.\n"
   ]
  },
  {
   "cell_type": "markdown",
   "metadata": {},
   "source": [
    "#### Elección de largo máximo de oración\n",
    "\n",
    "Para elegir el largo máximo de oración veamos una distribución de los largos de oración en los conjuntos train y val.\n",
    "\n",
    "Implemente una función que recorra un conjunto de datos y devuelva:\n",
    "\n",
    "- un diccionario python con (cant. palabras, cant. entradas) contando la cantidad de palabras de las entradas. Almacene entradas de 10 en 10, es decir [10,20,30,...], donde por ej. 20 se interpreta como entradas de 11 a 20 palabras. (Nombre de variable: **lenhist**)\n",
    "\n",
    "- el largo (cantidad de palabras) de la entrada de largo máximo y la entrada. (Nombres de variables: **maxlen** y **maxin**)\n",
    "\n",
    "\n",
    "** Complete las partes que faltan en el siguiente bloque de código. **"
   ]
  },
  {
   "cell_type": "code",
   "execution_count": 7,
   "metadata": {
    "collapsed": false
   },
   "outputs": [],
   "source": [
    "def len_histogram(corpus):\n",
    "    maxlen = 0\n",
    "    maxin = \"\"\n",
    "    lenhist = dict()\n",
    "\n",
    "    for t in corpus:\n",
    "        # ##### COMPLETE EL CUERPO DEL FOR PARA ASIGNAR LAS VARIABLES PEDIDAS #####\n",
    "        curr_len = len(t[0])\n",
    "        if curr_len > maxlen:\n",
    "            maxlen = curr_len\n",
    "            maxin = t[0]\n",
    "        if (1+(curr_len//10))*10 in lenhist:\n",
    "            lenhist[(1+(curr_len//10))*10] += 1\n",
    "        else:\n",
    "            lenhist[(1+(curr_len//10))*10] = 1\n",
    "\n",
    "    return lenhist, maxlen, maxin\n"
   ]
  },
  {
   "cell_type": "markdown",
   "metadata": {},
   "source": [
    "**En los siguientes bloques de código, usando los conjuntos de entrenamiento y validación, se realiza lo siguiente:**\n",
    "\n",
    "**1 -** Se imprime la cantaidad de palabras y la entrada, de la entrada con máxima cantidad de palabras, para los conjuntos train y val. <br>\n",
    "**2 -** Se grafica un histograma con la cantidad de entradas por cantidad de palabras de 10 en 10, para los conjuntos train y val. \n",
    "\n",
    "** Ejecute los bloques que siguen que utilizan la función 'len_histogram'. **"
   ]
  },
  {
   "cell_type": "code",
   "execution_count": 8,
   "metadata": {
    "collapsed": false
   },
   "outputs": [
    {
     "name": "stdout",
     "output_type": "stream",
     "text": [
      "Train:  108 ['⇩', 'Da', 'RT', 'cuando', 'encuentres', 'la', 'salida', '║', '╠', '═', '╦', '═', '═', '╦', '═', '╦', '═', '╦', '╦', '═', '╦', '╦', '╦', '═', '═', '╦', '═', '╦', '╦', '═', '═', '╗', '║', '╚', '╬', '╦', '╩', '╗', '╔', '╬', '╦', '╩', '╬', '╗', '╠', '╦', '╩', '╔', '╩', '╠', '╦', '╩', '╦', '║', '╬', '╬', '║', '╠', '╩', '╔', '╦', '╝', '║', '╬', '╔', '╩', '║', '╩', '╬', '╚', '╦', '╩', '╬', '║', '║', '╬', '║', '╠', '═', '╬', '║', '╣', '╚', '╩', '╩', '═', '╩', '═', '═', '═', '╩', '╩', '╩', '═', '╩', '═', '╩', '═', '╩', '═', '═', '╩', '═', '╩', '╩', '═', '═', '⇨']\n",
      "Val:  61 ['-', 'Amor', ',', '¿', 'está', 'todo', 'bien', '?', '-', '▶', '🔘', '─', '─', '─', '─', '─', '─', '─', '─', '00', ':', '01', '-', '¿', 'Segura', '?', '-', '▶', '🔘', '─', '─', '─', '─', '─', '─', '─', '─', '00', ':', '01', '-', 'Ok', ',', 're', 'bien', 'entonces', '.', '-', '▶', '🔘', '─', '─', '─', '─', '─', '─', '─', '─', '48', ':', '05']\n"
     ]
    }
   ],
   "source": [
    "lenhist_train, maxlen_train, maxin_train = len_histogram(train)\n",
    "lenhist_val, maxlen_val, maxin_val = len_histogram(val)\n",
    "print('Train: ', maxlen_train, maxin_train )\n",
    "print('Val: ', maxlen_val, maxin_val )"
   ]
  },
  {
   "cell_type": "code",
   "execution_count": 28,
   "metadata": {
    "collapsed": false
   },
   "outputs": [
    {
     "name": "stdout",
     "output_type": "stream",
     "text": [
      "Train:\n"
     ]
    },
    {
     "data": {
      "image/png": "[encoded data removed]",
      "text/plain": [
       "<matplotlib.figure.Figure at 0x1a38bdfcc0>"
      ]
     },
     "metadata": {},
     "output_type": "display_data"
    },
    {
     "name": "stdout",
     "output_type": "stream",
     "text": [
      "Test:\n"
     ]
    },
    {
     "data": {
      "image/png": "[encoded data removed]",
      "text/plain": [
       "<matplotlib.figure.Figure at 0x1a38bf8fd0>"
      ]
     },
     "metadata": {},
     "output_type": "display_data"
    }
   ],
   "source": [
    "import matplotlib.pyplot as plt\n",
    "\n",
    "def plot_histogram(hist):\n",
    "    indxs = list(range(10,(len(hist)+1)*10, 10))\n",
    "    plt.bar(range(len(hist)), [hist.get(i,0) for i in indxs], align='center')\n",
    "    plt.xticks(range(len(hist)), indxs)\n",
    "    plt.show()\n",
    "\n",
    "print(\"Train:\")\n",
    "plot_histogram(lenhist_train)\n",
    "print(\"Test:\")\n",
    "plot_histogram(lenhist_val)"
   ]
  },
  {
   "cell_type": "markdown",
   "metadata": {},
   "source": [
    "**Versiones vectorizadas de los conjuntos de entrenamiento, validación y evaluación.**\n",
    "\n",
    "Considere la función **corpus_vectorize** para construir la representación matricial mencionada anterioremente.\n"
   ]
  },
  {
   "cell_type": "code",
   "execution_count": 9,
   "metadata": {
    "collapsed": false
   },
   "outputs": [
    {
     "name": "stdout",
     "output_type": "stream",
     "text": [
      "X_train.shape:  (16999, 30, 300)\n",
      "X_val.shape:  (2000, 30, 300)\n",
      "X_test.shape:  (5000, 30, 300)\n"
     ]
    }
   ],
   "source": [
    "max_words = 30\n",
    "\n",
    "def corpus_vectorize(corpus, vecs, max_words):\n",
    "    X, y = [], []\n",
    "    for r in corpus:\n",
    "        s = r[0][:max_words] + ['###PADDING###'] * (max_words-len(r[0]))  # agrega padding o corta la oración\n",
    "        row = []\n",
    "        for w in s:\n",
    "            if len(vectores(w)) == vectores.dim:  # control para la dimensión\n",
    "                row.append(vectores(w))\n",
    "            else:\n",
    "                row.append(vectores('###PADDING###'))\n",
    "        X.append(row)\n",
    "        y.append(r[1])\n",
    "    X = np.array(X, dtype='float64')\n",
    "    y = np.array(y, dtype='int32')\n",
    "    return X, y\n",
    "\n",
    "\n",
    "X_train, y_train = corpus_vectorize(train, vectores, max_words)\n",
    "X_val, y_val = corpus_vectorize(val, vectores, max_words)\n",
    "X_test, y_test = corpus_vectorize(test, vectores, max_words)\n",
    "\n",
    "print(\"X_train.shape: \", X_train.shape) \n",
    "print(\"X_val.shape: \", X_val.shape) \n",
    "print(\"X_test.shape: \", X_test.shape)\n"
   ]
  },
  {
   "cell_type": "markdown",
   "metadata": {},
   "source": [
    "## Definición de Modelo y Entrenamiento\n",
    "\n",
    "En esta parte vamos a definir y entrenar modelos utilizando Keras.\n",
    "\n",
    "Para realizar las partes se debe utilizar la referencia de keras: \n",
    "\n",
    "https://keras.io/layers/recurrent/\n",
    "\n",
    "** Utilice el siguiente bloque de código para definir un modelo **\n"
   ]
  },
  {
   "cell_type": "code",
   "execution_count": 10,
   "metadata": {
    "collapsed": false
   },
   "outputs": [
    {
     "name": "stderr",
     "output_type": "stream",
     "text": [
      "Using TensorFlow backend.\n"
     ]
    }
   ],
   "source": [
    "import os\n",
    "os.environ['KERAS_BACKEND'] = 'tensorflow'\n",
    "\n",
    "from keras import Sequential\n",
    "from keras.layers import LSTM, Dense, Dropout, Activation\n",
    "\n",
    "model = Sequential()\n",
    "model.add(LSTM(512, input_shape=(30,300), dropout=.1))\n",
    "\n",
    "# ##### COMPLETAR RESTO DE LA DEFINICION DEL MODELO #####\n",
    "               \n",
    "model.add(Dense(1, activation='sigmoid'))\n"
   ]
  },
  {
   "cell_type": "markdown",
   "metadata": {},
   "source": [
    "** Compilar el modelo definido **\n",
    "\n",
    "Utilice el siguiente bloque de código para compilar el modelo. Puede modificar el código impartido."
   ]
  },
  {
   "cell_type": "code",
   "execution_count": 11,
   "metadata": {
    "collapsed": true
   },
   "outputs": [],
   "source": [
    "model.compile('adam', 'binary_crossentropy', metrics=['accuracy'])"
   ]
  },
  {
   "cell_type": "markdown",
   "metadata": {},
   "source": [
    "** Entrenar el modelo compilado **\n",
    "\n",
    "Complete el siguiente bloque de código para entrenar el modelo."
   ]
  },
  {
   "cell_type": "code",
   "execution_count": 12,
   "metadata": {
    "collapsed": false
   },
   "outputs": [
    {
     "name": "stdout",
     "output_type": "stream",
     "text": [
      "Epoch 1/1\n",
      "16999/16999 [==============================] - 2902s 171ms/step - loss: 0.4511 - acc: 0.7903\n"
     ]
    },
    {
     "data": {
      "text/plain": [
       "<keras.callbacks.History at 0x1abeb0ce10>"
      ]
     },
     "execution_count": 12,
     "metadata": {},
     "output_type": "execute_result"
    }
   ],
   "source": [
    "model.fit(X_train, y_train)\n",
    "\n",
    "# ### COMPLETAR ###"
   ]
  },
  {
   "cell_type": "markdown",
   "metadata": {},
   "source": [
    "** Evaluar el modelo entrenado en el conjunto de validación **\n",
    "\n",
    "Evaluar el modelo usando X_val e y_val con el método *evaluate*."
   ]
  },
  {
   "cell_type": "code",
   "execution_count": 13,
   "metadata": {
    "collapsed": false
   },
   "outputs": [
    {
     "name": "stdout",
     "output_type": "stream",
     "text": [
      "2000/2000 [==============================] - 118s 59ms/step\n"
     ]
    },
    {
     "data": {
      "text/plain": [
       "[0.39725326681137085, 0.82699999999999996]"
      ]
     },
     "execution_count": 13,
     "metadata": {},
     "output_type": "execute_result"
    }
   ],
   "source": [
    "model.evaluate(X_val,y_val)"
   ]
  },
  {
   "cell_type": "markdown",
   "metadata": {},
   "source": [
    "** Evaluación con Precision, recall y F **\n",
    "\n",
    "Considere la siguiente función para calcular las medidas P, R y F."
   ]
  },
  {
   "cell_type": "code",
   "execution_count": 14,
   "metadata": {
    "collapsed": true
   },
   "outputs": [],
   "source": [
    "from sklearn.metrics import accuracy_score\n",
    "from sklearn.metrics import precision_score\n",
    "from sklearn.metrics import recall_score\n",
    "from sklearn.metrics import f1_score\n",
    "\n",
    "def get_acc_p_r_f(model, X,y):\n",
    "    # from: https://machinelearningmastery.com/how-to-calculate-precision-recall-f1-and-more-for-deep-learning-models/\n",
    "    yhat_classes = model.predict_classes(X, verbose=0)[:, 0]\n",
    "    \n",
    "    # accuracy: (tp + tn) / (p + n)\n",
    "    accuracy = accuracy_score(y, yhat_classes)\n",
    "    print('Accuracy: %f' % accuracy)\n",
    "    # precision tp / (tp + fp)\n",
    "    precision = precision_score(y, yhat_classes)\n",
    "    print('Precision: %f' % precision)\n",
    "    # recall: tp / (tp + fn)\n",
    "    recall = recall_score(y, yhat_classes)\n",
    "    print('Recall: %f' % recall)\n",
    "    # f1: 2 tp / (2 tp + fp + fn)\n",
    "    f1 = f1_score(y, yhat_classes)\n",
    "    print('F1 score: %f' % f1)\n",
    "    \n",
    "    return accuracy, precision, recall, f1"
   ]
  },
  {
   "cell_type": "markdown",
   "metadata": {},
   "source": [
    "** Utilice la función anterior para calcular P, R y F en el conjunto de validación. **"
   ]
  },
  {
   "cell_type": "code",
   "execution_count": 15,
   "metadata": {
    "collapsed": false
   },
   "outputs": [
    {
     "name": "stdout",
     "output_type": "stream",
     "text": [
      "Accuracy: 0.827000\n",
      "Precision: 0.817805\n",
      "Recall: 0.604900\n",
      "F1 score: 0.695423\n"
     ]
    },
    {
     "data": {
      "text/plain": [
       "(0.82699999999999996,\n",
       " 0.81780538302277428,\n",
       " 0.60490045941807047,\n",
       " 0.69542253521126762)"
      ]
     },
     "execution_count": 15,
     "metadata": {},
     "output_type": "execute_result"
    }
   ],
   "source": [
    "get_acc_p_r_f(model, X_val, y_val)"
   ]
  },
  {
   "cell_type": "markdown",
   "metadata": {},
   "source": [
    "### Búsqueda de hiperparámetros\n",
    "\n",
    "Una vez vista la secuencia completa para definir, compilar, entrenar y evaluar un modelo; vamos a determinar una buena configuración de hiperparámetros.\n",
    "\n",
    "Debemos entener en cuenta hiperparámetros en cuanto a:\n",
    "\n",
    "- Estructura del modelo: cantidad y tipo de capas, cantidad de nueronas\n",
    "- Entrenamiento: método de entrenamiento, parámetros del métodos (learning rate, etc.)\n",
    "- Regularizaciones: Dropout, Early Stopping\n",
    "- Otras: Capas Bidireccionales, Capas Convolutivas, Combinaciones\n",
    "\n",
    "\n",
    "Es elección de cada estudiante elegir una de las siguiente técnicas de entrenamiento:\n",
    "\n",
    "- Manual Search\n",
    "- Grid Search\n",
    "- Random Search\n",
    "\n",
    "** Utilice los bloques de código que considere necesarios para realizar la búsqueda de hiperparámetros y entrenamiento de su modelo**"
   ]
  },
  {
   "cell_type": "code",
   "execution_count": 17,
   "metadata": {
    "collapsed": false
   },
   "outputs": [
    {
     "ename": "NameError",
     "evalue": "name 'GridSearchCV' is not defined",
     "output_type": "error",
     "traceback": [
      "\u001b[0;31m---------------------------------------------------------------------------\u001b[0m",
      "\u001b[0;31mNameError\u001b[0m                                 Traceback (most recent call last)",
      "\u001b[0;32m<ipython-input-17-f306cf85fd48>\u001b[0m in \u001b[0;36m<module>\u001b[0;34m()\u001b[0m\n\u001b[1;32m     10\u001b[0m \u001b[0mmodel\u001b[0m\u001b[0;34m.\u001b[0m\u001b[0madd\u001b[0m\u001b[0;34m(\u001b[0m\u001b[0mDense\u001b[0m\u001b[0;34m(\u001b[0m\u001b[0;36m1\u001b[0m\u001b[0;34m,\u001b[0m \u001b[0mactivation\u001b[0m\u001b[0;34m=\u001b[0m\u001b[0;34m'sigmoid'\u001b[0m\u001b[0;34m)\u001b[0m\u001b[0;34m)\u001b[0m\u001b[0;34m\u001b[0m\u001b[0m\n\u001b[1;32m     11\u001b[0m \u001b[0;34m\u001b[0m\u001b[0m\n\u001b[0;32m---> 12\u001b[0;31m \u001b[0mgrid\u001b[0m \u001b[0;34m=\u001b[0m \u001b[0mGridSearchCV\u001b[0m\u001b[0;34m(\u001b[0m\u001b[0mestimator\u001b[0m\u001b[0;34m=\u001b[0m\u001b[0mmodel\u001b[0m\u001b[0;34m,\u001b[0m \u001b[0mparam_grid\u001b[0m\u001b[0;34m=\u001b[0m\u001b[0mparam_grid\u001b[0m\u001b[0;34m,\u001b[0m \u001b[0mn_jobs\u001b[0m\u001b[0;34m=\u001b[0m\u001b[0;34m-\u001b[0m\u001b[0;36m1\u001b[0m\u001b[0;34m)\u001b[0m\u001b[0;34m\u001b[0m\u001b[0m\n\u001b[0m\u001b[1;32m     13\u001b[0m \u001b[0mgrid_result\u001b[0m \u001b[0;34m=\u001b[0m \u001b[0mgrid\u001b[0m\u001b[0;34m.\u001b[0m\u001b[0mfit\u001b[0m\u001b[0;34m(\u001b[0m\u001b[0mX_train\u001b[0m\u001b[0;34m,\u001b[0m \u001b[0my_train\u001b[0m\u001b[0;34m)\u001b[0m\u001b[0;34m\u001b[0m\u001b[0m\n",
      "\u001b[0;31mNameError\u001b[0m: name 'GridSearchCV' is not defined"
     ]
    }
   ],
   "source": [
    "# Búsqueda de hiperparámetros y entrenamiento\n",
    "param_grid = dict(epochs=[1,5,10], dropout=[0, .1, .2], batch_size=[1,32,64])\n",
    "\n",
    "\n",
    "model = Sequential()\n",
    "model.add(LSTM(512, input_shape=(30,300)))\n",
    "\n",
    "# ##### COMPLETAR RESTO DE LA DEFINICION DEL MODELO #####\n",
    "               \n",
    "model.add(Dense(1, activation='sigmoid'))\n",
    "          \n",
    "grid = GridSearchCV(estimator=model, param_grid=param_grid, n_jobs=-1)\n",
    "grid_result = grid.fit(X_train, y_train)"
   ]
  },
  {
   "cell_type": "markdown",
   "metadata": {},
   "source": [
    "# Evaluación\n",
    "\n",
    "Una vez encontrada una configuración adecuada de hiperparámetros haciendo uso del conjunto de validación, evaluamos el desempeño del modelo en los datos de evaluación.\n",
    "\n",
    "** Muestre el desempeño del modelo final en los datos de test en cuanto a Acc, P, R y F. **\n"
   ]
  },
  {
   "cell_type": "code",
   "execution_count": null,
   "metadata": {
    "collapsed": true
   },
   "outputs": [],
   "source": [
    "# Evaluación del modelo entrenado\n",
    "get_acc_p_r_f(model, X_test, y_test)"
   ]
  },
  {
   "cell_type": "markdown",
   "metadata": {
    "collapsed": true
   },
   "source": [
    "### Probar con entradas definidas por el usuario\n",
    "\n",
    "Utilice lo visto anteriormente para ejecutar una entrada provista por el usuario con el modelo entrenado."
   ]
  },
  {
   "cell_type": "code",
   "execution_count": null,
   "metadata": {
    "collapsed": true
   },
   "outputs": [],
   "source": [
    "def es_humor(model, entrada):\n",
    "    # ### COMPLETAR ###\n",
    "    return model.predict(entrada)"
   ]
  }
 ],
 "metadata": {
  "anaconda-cloud": {},
  "kernelspec": {
   "display_name": "Python [default]",
   "language": "python",
   "name": "python3"
  },
  "language_info": {
   "codemirror_mode": {
    "name": "ipython",
    "version": 3
   },
   "file_extension": ".py",
   "mimetype": "text/x-python",
   "name": "python",
   "nbconvert_exporter": "python",
   "pygments_lexer": "ipython3",
   "version": "3.5.2"
  }
 },
 "nbformat": 4,
 "nbformat_minor": 2
}
