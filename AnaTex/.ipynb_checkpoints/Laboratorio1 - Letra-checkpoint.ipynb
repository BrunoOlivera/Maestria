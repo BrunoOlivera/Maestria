{
 "cells": [
  {
   "cell_type": "markdown",
   "metadata": {
    "colab_type": "text",
    "id": "YNJcL_gq9JCM"
   },
   "source": [
    "### Importar librerias"
   ]
  },
  {
   "cell_type": "markdown",
   "metadata": {
    "colab_type": "text",
    "id": "3WcWZuNt9JCZ"
   },
   "source": [
    "Es necesario importar las librerias a utilizar, se usará spacy, pandas, "
   ]
  },
  {
   "cell_type": "code",
   "execution_count": 0,
   "metadata": {
    "colab": {},
    "colab_type": "code",
    "collapsed": true,
    "id": "RhnpkFPSBHmR"
   },
   "outputs": [],
   "source": [
    "# Ejecutar este fragmento si se ejecuta en colab\n",
    "!pip install unidecode\n",
    "!python -m spacy download es_core_news_sm"
   ]
  },
  {
   "cell_type": "code",
   "execution_count": 1,
   "metadata": {
    "colab": {},
    "colab_type": "code",
    "collapsed": false,
    "id": "s-9wnPcN9VZJ"
   },
   "outputs": [
    {
     "ename": "SyntaxError",
     "evalue": "invalid syntax (<ipython-input-1-2a534f3c8ddb>, line 8)",
     "output_type": "error",
     "traceback": [
      "\u001b[0;36m  File \u001b[0;32m\"<ipython-input-1-2a534f3c8ddb>\"\u001b[0;36m, line \u001b[0;32m8\u001b[0m\n\u001b[0;31m    carpeta_laboratorios =\u001b[0m\n\u001b[0m                           ^\u001b[0m\n\u001b[0;31mSyntaxError\u001b[0m\u001b[0;31m:\u001b[0m invalid syntax\n"
     ]
    }
   ],
   "source": [
    "# Ejecutar este fragmento si se ejecuta en colab\n",
    "# Debes autorizar a colab a acceder a tus archivos\n",
    "from google.colab import drive\n",
    "import os\n",
    "drive.mount('/lab')\n",
    "\n",
    "# En esta variable va la carpeta donde están los laboratorios en drive\n",
    "carpeta_laboratorios = \n",
    "\n",
    "path_laboratorios = '/lab/My Drive/' + carpeta_laboratorios + '/'\n",
    "print('Los archivos en tu carpeta de laboratoros son:')\n",
    "os.listdir(path_laboratorios)"
   ]
  },
  {
   "cell_type": "code",
   "execution_count": 5,
   "metadata": {
    "colab": {},
    "colab_type": "code",
    "collapsed": false,
    "id": "LBWmCS7h9JCi"
   },
   "outputs": [],
   "source": [
    "import nltk\n",
    "import spacy\n",
    "# from spacy import displacy\n",
    "import pandas as pd\n",
    "import re, string\n",
    "import unidecode"
   ]
  },
  {
   "cell_type": "markdown",
   "metadata": {
    "colab_type": "text",
    "id": "yvwHwBGy9JC8"
   },
   "source": [
    "#### Practicar Expresiones Regulares"
   ]
  },
  {
   "cell_type": "markdown",
   "metadata": {
    "colab_type": "text",
    "id": "Wg-ORdl59JDC"
   },
   "source": [
    "Dada una lista de palabras, imprimir los elementos que contengan un determinado string\n",
    "1. en cualquier lugar de la palabra\n",
    "2. teriminen en ese string\n",
    "\n",
    "Puede realizarlo usando la funcion match o la search"
   ]
  },
  {
   "cell_type": "code",
   "execution_count": 6,
   "metadata": {
    "colab": {},
    "colab_type": "code",
    "collapsed": false,
    "id": "Dw-7daBy9JDL"
   },
   "outputs": [
    {
     "name": "stdout",
     "output_type": "stream",
     "text": [
      "pera\n",
      "espera\n",
      "marinerala\n",
      "eramente\n"
     ]
    }
   ],
   "source": [
    "# ejemplo de busqueda de patron\n",
    "# a) contienen era\n",
    "\n",
    "lista = ['pera', 'espera','camino','marinerala', 'eramente']\n",
    "for elem in lista:\n",
    "    if re.match(r'.*era.*',elem):\n",
    "        print(elem)\n"
   ]
  },
  {
   "cell_type": "code",
   "execution_count": 0,
   "metadata": {
    "colab": {},
    "colab_type": "code",
    "collapsed": true,
    "id": "dUxrsDb79JDd"
   },
   "outputs": [],
   "source": [
    "# el search es como el match pero busca la ER en cualquier lugar de la cadena \n",
    "# sin necesidad de poner los símbolos de comienzo o fin poner el .*\n",
    "# a) variante\n",
    "\n",
    "lista = ['pera', 'espera','camino','marinerala','eramente']\n"
   ]
  },
  {
   "cell_type": "code",
   "execution_count": 9,
   "metadata": {
    "colab": {},
    "colab_type": "code",
    "collapsed": false,
    "id": "0Mq8m-Ur9JDv"
   },
   "outputs": [
    {
     "name": "stdout",
     "output_type": "stream",
     "text": [
      "pera\n",
      "espera\n"
     ]
    }
   ],
   "source": [
    "# b) terminan en era y antes puede haber cualquier otro símbolo\n",
    "\n",
    "lista = ['pera', 'espera','camino','marinerala', 'eramente']\n",
    "for elem in lista:\n",
    "    if re.match(r'.*(era)$',elem):\n",
    "        print(elem)\n"
   ]
  },
  {
   "cell_type": "markdown",
   "metadata": {
    "colab_type": "text",
    "id": "xWUD5Ukm9JD_"
   },
   "source": [
    "#### Practicar sustituciones"
   ]
  },
  {
   "cell_type": "markdown",
   "metadata": {
    "colab_type": "text",
    "id": "cFdDp7ts9JEF"
   },
   "source": [
    "Dada la oracion    'Si mañana vengo mañana voy a ver si consigo que mañana sea hoy' \n",
    "\n",
    "Sustituya las ocurrencias de la palabra mañana por la palabra hoy"
   ]
  },
  {
   "cell_type": "code",
   "execution_count": 10,
   "metadata": {
    "colab": {},
    "colab_type": "code",
    "collapsed": false,
    "id": "39SqApGD9JEK"
   },
   "outputs": [
    {
     "data": {
      "text/plain": [
       "'Si hoy vengo hoy voy a ver si consigo que hoy sea hoy'"
      ]
     },
     "execution_count": 10,
     "metadata": {},
     "output_type": "execute_result"
    }
   ],
   "source": [
    "#ejemplo de sustitución\n",
    "\n",
    "oracion = 'Si mañana vengo mañana voy a ver si consigo que mañana sea hoy'\n",
    "re.sub('mañana','hoy',oracion)  "
   ]
  },
  {
   "cell_type": "markdown",
   "metadata": {
    "colab_type": "text",
    "id": "ZfQtG_8F9JEe"
   },
   "source": [
    "Elimina palabras seguidas iguales"
   ]
  },
  {
   "cell_type": "code",
   "execution_count": 18,
   "metadata": {
    "colab": {},
    "colab_type": "code",
    "collapsed": false,
    "id": "oyYmesOI9JEl"
   },
   "outputs": [
    {
     "data": {
      "text/plain": [
       "'si hoy llueve'"
      ]
     },
     "execution_count": 18,
     "metadata": {},
     "output_type": "execute_result"
    }
   ],
   "source": [
    "# sustituciones con ER, elimina palabras seguidas iguales, dejando solo una\n",
    "oracion = 'si hoy hoy llueve llueve'\n",
    "re.sub(r'(\\w+) \\1',r'\\1',oracion)"
   ]
  },
  {
   "cell_type": "markdown",
   "metadata": {
    "colab_type": "text",
    "id": "roqWdqzI9JE0"
   },
   "source": [
    "Elimine las líneas en blanco que puedan estar en medio de una oración"
   ]
  },
  {
   "cell_type": "code",
   "execution_count": 20,
   "metadata": {
    "colab": {},
    "colab_type": "code",
    "collapsed": false,
    "id": "_taZjLQ79JE4"
   },
   "outputs": [
    {
     "name": "stdout",
     "output_type": "stream",
     "text": [
      "si hoy\n",
      "llueve\n"
     ]
    },
    {
     "data": {
      "text/plain": [
       "'si hoy llueve'"
      ]
     },
     "execution_count": 20,
     "metadata": {},
     "output_type": "execute_result"
    }
   ],
   "source": [
    "# Por ejemplo, sustitúyalas por un \"espacio\"\n",
    "oracion = 'si hoy\\nllueve'\n",
    "print(oracion)\n",
    "re.sub(r'\\n',r' ',oracion)"
   ]
  },
  {
   "cell_type": "markdown",
   "metadata": {
    "colab_type": "text",
    "id": "1a2SirUC9JFH"
   },
   "source": [
    "#### Carga de datos"
   ]
  },
  {
   "cell_type": "markdown",
   "metadata": {
    "colab_type": "text",
    "id": "km6U6qei9JFN"
   },
   "source": [
    "Hay que cargar los datos para desarrollo a partir del archivo csv provisto (devel.csv). Pandas cuenta con una funcion para cargar csv. https://pandas.pydata.org/pandas-docs/stable/reference/api/pandas.read_csv.html"
   ]
  },
  {
   "cell_type": "code",
   "execution_count": 22,
   "metadata": {
    "colab": {},
    "colab_type": "code",
    "collapsed": false,
    "id": "z_esmiW19JFU"
   },
   "outputs": [],
   "source": [
    "df_devel = pd.read_csv('devel.csv', header=None)"
   ]
  },
  {
   "cell_type": "markdown",
   "metadata": {
    "colab_type": "text",
    "id": "bVnSP36R9JFj"
   },
   "source": [
    "Es posible ver la composición general de los datos con la función info de pandas"
   ]
  },
  {
   "cell_type": "code",
   "execution_count": 23,
   "metadata": {
    "colab": {},
    "colab_type": "code",
    "collapsed": false,
    "id": "PW7bkrWY9JFm"
   },
   "outputs": [
    {
     "name": "stdout",
     "output_type": "stream",
     "text": [
      "<class 'pandas.core.frame.DataFrame'>\n",
      "RangeIndex: 1133 entries, 0 to 1132\n",
      "Data columns (total 3 columns):\n",
      "0    1133 non-null int64\n",
      "1    1133 non-null object\n",
      "2    1133 non-null object\n",
      "dtypes: int64(1), object(2)\n",
      "memory usage: 26.6+ KB\n"
     ]
    }
   ],
   "source": [
    "df_devel.info()"
   ]
  },
  {
   "cell_type": "code",
   "execution_count": 24,
   "metadata": {
    "colab": {},
    "colab_type": "code",
    "collapsed": false,
    "id": "N-ZQwUvs9JFw"
   },
   "outputs": [
    {
     "data": {
      "text/html": [
       "<div>\n",
       "<style scoped>\n",
       "    .dataframe tbody tr th:only-of-type {\n",
       "        vertical-align: middle;\n",
       "    }\n",
       "\n",
       "    .dataframe tbody tr th {\n",
       "        vertical-align: top;\n",
       "    }\n",
       "\n",
       "    .dataframe thead th {\n",
       "        text-align: right;\n",
       "    }\n",
       "</style>\n",
       "<table border=\"1\" class=\"dataframe\">\n",
       "  <thead>\n",
       "    <tr style=\"text-align: right;\">\n",
       "      <th></th>\n",
       "      <th>0</th>\n",
       "      <th>1</th>\n",
       "      <th>2</th>\n",
       "    </tr>\n",
       "  </thead>\n",
       "  <tbody>\n",
       "    <tr>\n",
       "      <th>0</th>\n",
       "      <td>187437263205044224</td>\n",
       "      <td>Estos días trataré de hacer deporte con mis am...</td>\n",
       "      <td>P</td>\n",
       "    </tr>\n",
       "    <tr>\n",
       "      <th>1</th>\n",
       "      <td>180438913880571904</td>\n",
       "      <td>Un mensaje especial para un luchador como Eric...</td>\n",
       "      <td>P</td>\n",
       "    </tr>\n",
       "    <tr>\n",
       "      <th>2</th>\n",
       "      <td>771051726694744064</td>\n",
       "      <td>Chicxs nunca idealicéis demasiado a una person...</td>\n",
       "      <td>N</td>\n",
       "    </tr>\n",
       "    <tr>\n",
       "      <th>3</th>\n",
       "      <td>810700953620021248</td>\n",
       "      <td>@wkCArlos yo soy igual Jajajaja trató de evita...</td>\n",
       "      <td>NEU</td>\n",
       "    </tr>\n",
       "    <tr>\n",
       "      <th>4</th>\n",
       "      <td>769894353389162497</td>\n",
       "      <td>Y yo mientras comeré palomitas mientras quedái...</td>\n",
       "      <td>N</td>\n",
       "    </tr>\n",
       "    <tr>\n",
       "      <th>5</th>\n",
       "      <td>817151700335267841</td>\n",
       "      <td>Lo bueno: el gato regresó. Lo malo: creo que e...</td>\n",
       "      <td>NEU</td>\n",
       "    </tr>\n",
       "    <tr>\n",
       "      <th>6</th>\n",
       "      <td>159520155372765184</td>\n",
       "      <td>Recuerdo a Garzon ,bermejo,la fiscal,el poli d...</td>\n",
       "      <td>N</td>\n",
       "    </tr>\n",
       "    <tr>\n",
       "      <th>7</th>\n",
       "      <td>178812716499218432</td>\n",
       "      <td>Llena de tristeza que víctimas del terrorismo ...</td>\n",
       "      <td>N</td>\n",
       "    </tr>\n",
       "    <tr>\n",
       "      <th>8</th>\n",
       "      <td>145810899008110592</td>\n",
       "      <td>RT @Ciutadans_Cs: A las 13h, no te pierdas a I...</td>\n",
       "      <td>NONE</td>\n",
       "    </tr>\n",
       "    <tr>\n",
       "      <th>9</th>\n",
       "      <td>158684073529843712</td>\n",
       "      <td>Fraga sera velado en su domicilio este lunes y...</td>\n",
       "      <td>NONE</td>\n",
       "    </tr>\n",
       "  </tbody>\n",
       "</table>\n",
       "</div>"
      ],
      "text/plain": [
       "                    0                                                  1     2\n",
       "0  187437263205044224  Estos días trataré de hacer deporte con mis am...     P\n",
       "1  180438913880571904  Un mensaje especial para un luchador como Eric...     P\n",
       "2  771051726694744064  Chicxs nunca idealicéis demasiado a una person...     N\n",
       "3  810700953620021248  @wkCArlos yo soy igual Jajajaja trató de evita...   NEU\n",
       "4  769894353389162497  Y yo mientras comeré palomitas mientras quedái...     N\n",
       "5  817151700335267841  Lo bueno: el gato regresó. Lo malo: creo que e...   NEU\n",
       "6  159520155372765184  Recuerdo a Garzon ,bermejo,la fiscal,el poli d...     N\n",
       "7  178812716499218432  Llena de tristeza que víctimas del terrorismo ...     N\n",
       "8  145810899008110592  RT @Ciutadans_Cs: A las 13h, no te pierdas a I...  NONE\n",
       "9  158684073529843712  Fraga sera velado en su domicilio este lunes y...  NONE"
      ]
     },
     "execution_count": 24,
     "metadata": {},
     "output_type": "execute_result"
    }
   ],
   "source": [
    "df_devel.head(10)"
   ]
  },
  {
   "cell_type": "markdown",
   "metadata": {
    "colab_type": "text",
    "id": "pzvPmMzf9JF-"
   },
   "source": [
    "Es posible imprimir el texto completo"
   ]
  },
  {
   "cell_type": "code",
   "execution_count": 25,
   "metadata": {
    "colab": {},
    "colab_type": "code",
    "collapsed": false,
    "id": "nOAR_FXn9JGC"
   },
   "outputs": [
    {
     "name": "stdout",
     "output_type": "stream",
     "text": [
      "Estos días trataré de hacer deporte con mis amigos y desconectar.\n",
      "Un mensaje especial para un luchador como Eric Abidal. Toda la fuerza para tu recuperación. Estamos con vos!\n",
      "Chicxs nunca idealicéis demasiado a una persona, que luego os da mg en facebook y rompéis un espejo de la emoción \n",
      "@wkCArlos yo soy igual Jajajaja trató de evitarlo pero no lo logro\n",
      "Y yo mientras comeré palomitas mientras quedáis retratados porque, ay, es lo que pasa cuando usas el activismo como un arma \n",
      "Lo bueno: el gato regresó. Lo malo: creo que es del vecino y no me lo puedo dejar.\n",
      "Recuerdo a Garzon ,bermejo,la fiscal,el poli de la judicial cazando gratis con Correa en el calabozo...\n",
      "Llena de tristeza que víctimas del terrorismo como #Pilar Manjón pretendan boicotear el trabajo de la justicia en el #11M #11Mconlasvíctimas\n",
      "RT @Ciutadans_Cs: A las 13h, no te pierdas a Inés Arrimadas en la tertulia \"La Alternativa de Cope Bcn #CsTeam\n",
      "Fraga sera velado en su domicilio este lunes y el martes sera trasladado a Perbes(Lugo) donde será enterrado. Es la intención de la familia.\n"
     ]
    }
   ],
   "source": [
    "# seleccionamos los primeros 10 tweets\n",
    "\n",
    "for tweet in df_devel[1].values[:10]:\n",
    "    print(tweet)\n",
    "    "
   ]
  },
  {
   "cell_type": "code",
   "execution_count": 0,
   "metadata": {
    "colab": {},
    "colab_type": "code",
    "collapsed": true,
    "id": "Cdkdsy6k9JGO"
   },
   "outputs": [],
   "source": [
    "# hacer lo mismo con el corpus de entrenamiento train los 20 primeros tweets\n"
   ]
  },
  {
   "cell_type": "markdown",
   "metadata": {
    "colab_type": "text",
    "id": "fnkh6nwt9JGf"
   },
   "source": [
    "### Preprocesamiento"
   ]
  },
  {
   "cell_type": "markdown",
   "metadata": {
    "colab_type": "text",
    "id": "3fZeBCmg9JGi"
   },
   "source": [
    "Para el procesamiento posterior del texto puede ser útil modificar el texto original para que sea más manejable. En el caso de los tweets puede tener sentido ignorar los Hashtags, Mentions y Urls para que no tenerlos en cuenta al momento de aplicar otras técnicas."
   ]
  },
  {
   "cell_type": "markdown",
   "metadata": {
    "colab_type": "text",
    "id": "9cZVZ9cI9JGk"
   },
   "source": [
    "Es posible definir una función y pasarla a pandas para que la aplique en todas las filas de cierta columna. El resultado se puede guardar en una nueva columna del dataframe de pandas, por ejemplo:"
   ]
  },
  {
   "cell_type": "code",
   "execution_count": 43,
   "metadata": {
    "colab": {},
    "colab_type": "code",
    "collapsed": true,
    "id": "Y2jJ7XEq9JGp"
   },
   "outputs": [],
   "source": [
    "def acentos(text):\n",
    "    \"\"\"\n",
    "    Recibe un texto y lo devuelve sustituyendo caracteres por su versión sin acentos\n",
    "    \"\"\"\n",
    "    return unidecode.unidecode(text)"
   ]
  },
  {
   "cell_type": "code",
   "execution_count": 44,
   "metadata": {
    "colab": {},
    "colab_type": "code",
    "collapsed": true,
    "id": "0R7aT1i39JG1"
   },
   "outputs": [],
   "source": [
    "df_devel['texto_limpio'] = df_devel[1].apply(acentos)"
   ]
  },
  {
   "cell_type": "code",
   "execution_count": 45,
   "metadata": {
    "colab": {},
    "colab_type": "code",
    "collapsed": false,
    "id": "xtaNii8e9JG-"
   },
   "outputs": [
    {
     "name": "stdout",
     "output_type": "stream",
     "text": [
      "Estos dias tratare de hacer deporte con mis amigos y desconectar.\n"
     ]
    }
   ],
   "source": [
    "# proceso solo el primer tweet\n",
    "\n",
    "for tweet in df_devel['texto_limpio'].values[:1]:\n",
    "    print(tweet)"
   ]
  },
  {
   "cell_type": "code",
   "execution_count": 46,
   "metadata": {
    "colab": {},
    "colab_type": "code",
    "collapsed": false,
    "id": "l1Y64dY_9JHH"
   },
   "outputs": [
    {
     "name": "stdout",
     "output_type": "stream",
     "text": [
      "['Estos dias tratare de hacer deporte con mis amigos y desconectar.']\n"
     ]
    }
   ],
   "source": [
    "oracion = df_devel['texto_limpio'].values[:1]\n",
    "print(oracion)"
   ]
  },
  {
   "cell_type": "code",
   "execution_count": 47,
   "metadata": {
    "colab": {},
    "colab_type": "code",
    "collapsed": false,
    "id": "g0fhEa6i9JHU"
   },
   "outputs": [
    {
     "name": "stdout",
     "output_type": "stream",
     "text": [
      "['Estos dias tratare de hacer deporte con mis amigos y desconectar.'\n",
      " 'Un mensaje especial para un luchador como Eric Abidal. Toda la fuerza para tu recuperacion. Estamos con vos!'\n",
      " 'Chicxs nunca idealiceis demasiado a una persona, que luego os da mg en facebook y rompeis un espejo de la emocion '\n",
      " '@wkCArlos yo soy igual Jajajaja trato de evitarlo pero no lo logro'\n",
      " 'Y yo mientras comere palomitas mientras quedais retratados porque, ay, es lo que pasa cuando usas el activismo como un arma '\n",
      " 'Lo bueno: el gato regreso. Lo malo: creo que es del vecino y no me lo puedo dejar.'\n",
      " 'Recuerdo a Garzon ,bermejo,la fiscal,el poli de la judicial cazando gratis con Correa en el calabozo...'\n",
      " 'Llena de tristeza que victimas del terrorismo como #Pilar Manjon pretendan boicotear el trabajo de la justicia en el #11M #11Mconlasvictimas'\n",
      " 'RT @Ciutadans_Cs: A las 13h, no te pierdas a Ines Arrimadas en la tertulia \"La Alternativa de Cope Bcn #CsTeam'\n",
      " 'Fraga sera velado en su domicilio este lunes y el martes sera trasladado a Perbes(Lugo) donde sera enterrado. Es la intencion de la familia.']\n"
     ]
    }
   ],
   "source": [
    "#procesar los 10 primeros\n",
    "\n",
    "print(df_devel['texto_limpio'].values[:10])"
   ]
  },
  {
   "cell_type": "markdown",
   "metadata": {
    "colab_type": "text",
    "id": "9Cc9Isra9JHf"
   },
   "source": [
    "En el caso de sustituir expresiones pueden usarse expresiones regulares:"
   ]
  },
  {
   "cell_type": "code",
   "execution_count": 48,
   "metadata": {
    "colab": {},
    "colab_type": "code",
    "collapsed": true,
    "id": "gmgERHM_9JHj"
   },
   "outputs": [],
   "source": [
    "import re\n",
    "def hashtags(text):\n",
    "    \"\"\"\n",
    "    Sustituye los hashtags con la palabra HASHTAG\n",
    "    \"\"\"\n",
    "    return re.sub('\\s([#][\\w_-]+)', ' HASHTAG ', text)"
   ]
  },
  {
   "cell_type": "markdown",
   "metadata": {
    "colab_type": "text",
    "id": "kteTEnkV9JHr"
   },
   "source": [
    "Se aplica la función sobre la columna texto_limpio de manera de acumular las transformaciones"
   ]
  },
  {
   "cell_type": "code",
   "execution_count": 49,
   "metadata": {
    "colab": {},
    "colab_type": "code",
    "collapsed": true,
    "id": "w0dIPG929JHu"
   },
   "outputs": [],
   "source": [
    "df_devel['texto_limpio'] = df_devel[1].apply(hashtags)"
   ]
  },
  {
   "cell_type": "code",
   "execution_count": 50,
   "metadata": {
    "colab": {},
    "colab_type": "code",
    "collapsed": false,
    "id": "TGHNbwEF9JH0"
   },
   "outputs": [
    {
     "name": "stdout",
     "output_type": "stream",
     "text": [
      "['Estos días trataré de hacer deporte con mis amigos y desconectar.'\n",
      " 'Un mensaje especial para un luchador como Eric Abidal. Toda la fuerza para tu recuperación. Estamos con vos!'\n",
      " 'Chicxs nunca idealicéis demasiado a una persona, que luego os da mg en facebook y rompéis un espejo de la emoción '\n",
      " '@wkCArlos yo soy igual Jajajaja trató de evitarlo pero no lo logro'\n",
      " 'Y yo mientras comeré palomitas mientras quedáis retratados porque, ay, es lo que pasa cuando usas el activismo como un arma '\n",
      " 'Lo bueno: el gato regresó. Lo malo: creo que es del vecino y no me lo puedo dejar.'\n",
      " 'Recuerdo a Garzon ,bermejo,la fiscal,el poli de la judicial cazando gratis con Correa en el calabozo...'\n",
      " 'Llena de tristeza que víctimas del terrorismo como HASHTAG  Manjón pretendan boicotear el trabajo de la justicia en el HASHTAG  HASHTAG '\n",
      " 'RT @Ciutadans_Cs: A las 13h, no te pierdas a Inés Arrimadas en la tertulia \"La Alternativa de Cope Bcn HASHTAG '\n",
      " 'Fraga sera velado en su domicilio este lunes y el martes sera trasladado a Perbes(Lugo) donde será enterrado. Es la intención de la familia.']\n"
     ]
    }
   ],
   "source": [
    "# Aplicarlo a los 10 primeros tweets\n",
    "print(df_devel['texto_limpio'].values[:10])"
   ]
  },
  {
   "cell_type": "markdown",
   "metadata": {
    "colab_type": "text",
    "id": "Q_ot92EB9JH9"
   },
   "source": [
    "Hay que hacer lo propio con las mentions (@), con las URL, simbolos de puntuación y las cifras."
   ]
  },
  {
   "cell_type": "code",
   "execution_count": 73,
   "metadata": {
    "colab": {},
    "colab_type": "code",
    "collapsed": true,
    "id": "1Q_ellfN9JIB"
   },
   "outputs": [],
   "source": [
    "def mentions(text):\n",
    "    \"\"\"\n",
    "    \n",
    "    \"\"\"\n",
    "    return re.sub('@(\\w|\\d|_)+',' MENTION ',text)"
   ]
  },
  {
   "cell_type": "code",
   "execution_count": 74,
   "metadata": {
    "colab": {},
    "colab_type": "code",
    "collapsed": true,
    "id": "hZYxYa6X9JIN"
   },
   "outputs": [],
   "source": [
    "def url(text):\n",
    "    \"\"\"\n",
    "    \n",
    "    \"\"\"\n",
    "    return re.sub('((https?://|www\\.)\\S+|\\S+\\.com)( |\\.)',' URL ',text)"
   ]
  },
  {
   "cell_type": "code",
   "execution_count": 75,
   "metadata": {
    "colab": {},
    "colab_type": "code",
    "collapsed": true,
    "id": "9l5ZS93S9JIY"
   },
   "outputs": [],
   "source": [
    "def numeros(text):\n",
    "    \"\"\"\n",
    "    \n",
    "    \"\"\"\n",
    "    return re.sub(' \\d+(\\.\\d+)?\\.? ',' NUMBER ',text)"
   ]
  },
  {
   "cell_type": "code",
   "execution_count": 76,
   "metadata": {
    "colab": {},
    "colab_type": "code",
    "collapsed": true,
    "id": "DblSmqZb9JIg"
   },
   "outputs": [],
   "source": [
    "def puntuacion(text):\n",
    "    \"\"\"\n",
    "    \n",
    "    \"\"\"\n",
    "    return re.sub('[.,!?:;\"]',' PUNCT ',text)"
   ]
  },
  {
   "cell_type": "markdown",
   "metadata": {
    "colab_type": "text",
    "id": "xicmMV_59JIm"
   },
   "source": [
    "Pueden aplicarse las transformaciones de forma encadenada:"
   ]
  },
  {
   "cell_type": "code",
   "execution_count": 77,
   "metadata": {
    "colab": {},
    "colab_type": "code",
    "collapsed": false,
    "id": "Mvq0IwQ59JIo"
   },
   "outputs": [],
   "source": [
    "df_devel['texto_limpio'] = df_devel[1].apply(acentos).apply(hashtags).apply(mentions).apply(url).apply(numeros).apply(puntuacion)"
   ]
  },
  {
   "cell_type": "code",
   "execution_count": 78,
   "metadata": {
    "colab": {},
    "colab_type": "code",
    "collapsed": false,
    "id": "4Q1qBCcA9JIw"
   },
   "outputs": [
    {
     "name": "stdout",
     "output_type": "stream",
     "text": [
      "['Estos dias tratare de hacer deporte con mis amigos y desconectar PUNCT '\n",
      " 'Un mensaje especial para un luchador como Eric Abidal PUNCT  Toda la fuerza para tu recuperacion PUNCT  Estamos con vos PUNCT '\n",
      " 'Chicxs nunca idealiceis demasiado a una persona PUNCT  que luego os da mg en facebook y rompeis un espejo de la emocion '\n",
      " ' MENTION  yo soy igual Jajajaja trato de evitarlo pero no lo logro'\n",
      " 'Y yo mientras comere palomitas mientras quedais retratados porque PUNCT  ay PUNCT  es lo que pasa cuando usas el activismo como un arma '\n",
      " 'Lo bueno PUNCT  el gato regreso PUNCT  Lo malo PUNCT  creo que es del vecino y no me lo puedo dejar PUNCT '\n",
      " 'Recuerdo a Garzon  PUNCT bermejo PUNCT la fiscal PUNCT el poli de la judicial cazando gratis con Correa en el calabozo PUNCT  PUNCT  PUNCT '\n",
      " 'Llena de tristeza que victimas del terrorismo como HASHTAG  Manjon pretendan boicotear el trabajo de la justicia en el HASHTAG  HASHTAG '\n",
      " 'RT  MENTION  PUNCT  A las 13h PUNCT  no te pierdas a Ines Arrimadas en la tertulia  PUNCT La Alternativa de Cope Bcn HASHTAG '\n",
      " 'Fraga sera velado en su domicilio este lunes y el martes sera trasladado a Perbes(Lugo) donde sera enterrado PUNCT  Es la intencion de la familia PUNCT ']\n"
     ]
    }
   ],
   "source": [
    "# verificarlo con los 10 primeros tweets\n",
    "print(df_devel['texto_limpio'].values[:10])"
   ]
  },
  {
   "cell_type": "markdown",
   "metadata": {
    "colab_type": "text",
    "id": "n3xmOacL9JJQ"
   },
   "source": [
    "Hay que tener cuidado por si exiten tweets con líneas en blanco\n",
    "¿Cómo lo resolvería?"
   ]
  },
  {
   "cell_type": "code",
   "execution_count": 0,
   "metadata": {
    "colab": {},
    "colab_type": "code",
    "collapsed": true,
    "id": "1nZjRMze9JJU"
   },
   "outputs": [],
   "source": []
  },
  {
   "cell_type": "markdown",
   "metadata": {
    "colab_type": "text",
    "id": "Z5qeQpMi9JJc"
   },
   "source": [
    "### Trabajo con el tokenizador de NLTK, el punkt"
   ]
  },
  {
   "cell_type": "code",
   "execution_count": 0,
   "metadata": {
    "colab": {},
    "colab_type": "code",
    "collapsed": true,
    "id": "wzYdzVmD9JJg"
   },
   "outputs": [],
   "source": [
    "import nltk\n",
    "\n",
    "# es importante para tokenizar (palabras u oraciones) bajar el paquete punkt\n",
    "\n",
    "nltk.download('punkt')"
   ]
  },
  {
   "cell_type": "code",
   "execution_count": 0,
   "metadata": {
    "colab": {},
    "colab_type": "code",
    "collapsed": true,
    "id": "j6dXC7B79JJo"
   },
   "outputs": [],
   "source": [
    "# como invocar al tokenizador de palabras\n",
    "\n",
    "nltk.word_tokenize('Hoy es un lindo dia')"
   ]
  },
  {
   "cell_type": "code",
   "execution_count": 0,
   "metadata": {
    "colab": {},
    "colab_type": "code",
    "collapsed": true,
    "id": "39lc2x7P9JJx"
   },
   "outputs": [],
   "source": [
    "# hacerlo para el primer tweet\n"
   ]
  },
  {
   "cell_type": "code",
   "execution_count": 0,
   "metadata": {
    "colab": {},
    "colab_type": "code",
    "collapsed": true,
    "id": "-FNQbyA-9JJ2"
   },
   "outputs": [],
   "source": [
    "# como invocar al tokenizador de oraciones\n",
    "\n",
    "nltk.sent_tokenize('Hola amigos. Gracias por venir. Saludos. Qué lindoo!! Será verdad? Tal vez si')"
   ]
  },
  {
   "cell_type": "markdown",
   "metadata": {
    "colab_type": "text",
    "id": "F5qXzt6B9JJ8"
   },
   "source": [
    "### Spacy"
   ]
  },
  {
   "cell_type": "markdown",
   "metadata": {
    "colab_type": "text",
    "id": "KT0JT0PL9JJ_"
   },
   "source": [
    "Tokenizamos con Spacy"
   ]
  },
  {
   "cell_type": "code",
   "execution_count": 0,
   "metadata": {
    "colab": {},
    "colab_type": "code",
    "collapsed": true,
    "id": "PuTDcn0X9JKC"
   },
   "outputs": [],
   "source": [
    "# con la bilbioteca spacy también se puede tokenizar\n",
    "\n",
    "import es_core_news_sm\n",
    "nlp = es_core_news_sm.load()\n",
    "doc = nlp(\"Hoy puede ser un gran día.\")\n",
    "for token in doc:\n",
    "    print(token.text)"
   ]
  },
  {
   "cell_type": "markdown",
   "metadata": {
    "colab_type": "text",
    "id": "jXiMhv3p9JKV"
   },
   "source": [
    "Spacy aplica un pipeline de PLN a los textos, tokenizador, stemming, pos tagger, ner, vectores de palabras."
   ]
  },
  {
   "cell_type": "code",
   "execution_count": 0,
   "metadata": {
    "colab": {},
    "colab_type": "code",
    "collapsed": true,
    "id": "wEWX24SH9JKX"
   },
   "outputs": [],
   "source": [
    "docs = []\n",
    "for tweet in df_devel['texto_limpio'].values[:10]:\n",
    "    doc = nlp(tweet)\n",
    "    docs.append(doc)"
   ]
  },
  {
   "cell_type": "code",
   "execution_count": 0,
   "metadata": {
    "colab": {},
    "colab_type": "code",
    "collapsed": true,
    "id": "d7z2ldcB9JKf"
   },
   "outputs": [],
   "source": [
    "for token in doc:\n",
    "    print(token.text, token.pos_, token.dep_)"
   ]
  },
  {
   "cell_type": "code",
   "execution_count": 0,
   "metadata": {
    "colab": {},
    "colab_type": "code",
    "collapsed": true,
    "id": "DVlHXsEa9JKm"
   },
   "outputs": [],
   "source": [
    "for token in doc:\n",
    "    print(token.text, token.lemma_, token.pos_, token.tag_, token.dep_,\n",
    "            token.shape_, token.is_alpha, token.is_stop)"
   ]
  },
  {
   "cell_type": "code",
   "execution_count": 0,
   "metadata": {
    "colab": {},
    "colab_type": "code",
    "collapsed": true,
    "id": "M7qNBlEe9JKy"
   },
   "outputs": [],
   "source": [
    "tokens = nlp(\"Perros y gatos se pelean por los peces\")"
   ]
  },
  {
   "cell_type": "code",
   "execution_count": 0,
   "metadata": {
    "colab": {},
    "colab_type": "code",
    "collapsed": true,
    "id": "N-qwNnJt9JK5"
   },
   "outputs": [],
   "source": [
    "# Permite verificar con los vectores de palabras cuan cerca están 2 palabras utilizando\n",
    "# el corpus de noticias de la wikipedia\n",
    "\n",
    "for token1 in tokens:\n",
    "    for token2 in tokens:\n",
    "        print(token1.text, token2.text, token1.similarity(token2))"
   ]
  },
  {
   "cell_type": "markdown",
   "metadata": {
    "colab_type": "text",
    "collapsed": true,
    "id": "CBZGZ9959JK9"
   },
   "source": [
    "Hacerlo con otra oración y analizar el resultado\n"
   ]
  },
  {
   "cell_type": "code",
   "execution_count": 0,
   "metadata": {
    "colab": {},
    "colab_type": "code",
    "collapsed": true,
    "id": "dyJb9JYR9JK_"
   },
   "outputs": [],
   "source": []
  },
  {
   "cell_type": "markdown",
   "metadata": {
    "colab_type": "text",
    "id": "XGu0vClf9JLH"
   },
   "source": [
    "### Análisis"
   ]
  },
  {
   "cell_type": "markdown",
   "metadata": {
    "colab_type": "text",
    "id": "HnUL9lJ_9JLJ"
   },
   "source": [
    "Interesa conocer la longitud de los textos, se puede crear una nueva columna con ese valor usando la funcion len"
   ]
  },
  {
   "cell_type": "code",
   "execution_count": 0,
   "metadata": {
    "colab": {},
    "colab_type": "code",
    "collapsed": true,
    "id": "JFcrAm5_9JLK"
   },
   "outputs": [],
   "source": [
    "df_devel['largo_texto'] = df_devel['texto_limpio'].apply(len)"
   ]
  },
  {
   "cell_type": "code",
   "execution_count": 0,
   "metadata": {
    "colab": {},
    "colab_type": "code",
    "collapsed": true,
    "id": "u0vEBf0Y9JLP"
   },
   "outputs": [],
   "source": [
    "df_devel.head(5)"
   ]
  },
  {
   "cell_type": "markdown",
   "metadata": {
    "colab_type": "text",
    "id": "vkQvgFYs9JLV"
   },
   "source": [
    "La función describe de pandas brinda estadisticas sobre las columnas númericas, lo que permite saber por ejemplo que el largo primedio de los textos es 98 carácteres y el máximo es 201."
   ]
  },
  {
   "cell_type": "code",
   "execution_count": 0,
   "metadata": {
    "colab": {},
    "colab_type": "code",
    "collapsed": true,
    "id": "WtiJQj2B9JLX"
   },
   "outputs": [],
   "source": [
    "df_devel.describe()"
   ]
  },
  {
   "cell_type": "markdown",
   "metadata": {
    "colab_type": "text",
    "id": "5x7vMDek9JLc"
   },
   "source": [
    "Es posible localizar la fila donde se encuentra el tweet más largo:"
   ]
  },
  {
   "cell_type": "code",
   "execution_count": 0,
   "metadata": {
    "colab": {},
    "colab_type": "code",
    "collapsed": true,
    "id": "BM0DrLxw9JLe"
   },
   "outputs": [],
   "source": [
    "df_devel.loc[df_devel['largo_texto'].idxmax()]['texto_limpio']"
   ]
  },
  {
   "cell_type": "code",
   "execution_count": 0,
   "metadata": {
    "colab": {},
    "colab_type": "code",
    "collapsed": true,
    "id": "UotiT6fQDhDN"
   },
   "outputs": [],
   "source": []
  }
 ],
 "metadata": {
  "anaconda-cloud": {},
  "colab": {
   "collapsed_sections": [
    "1a2SirUC9JFH",
    "fnkh6nwt9JGf",
    "Z5qeQpMi9JJc",
    "F5qXzt6B9JJ8",
    "XGu0vClf9JLH"
   ],
   "name": "Laboratorio1 - Letra.ipynb",
   "provenance": []
  },
  "kernelspec": {
   "display_name": "Python [default]",
   "language": "python",
   "name": "python3"
  },
  "language_info": {
   "codemirror_mode": {
    "name": "ipython",
    "version": 3
   },
   "file_extension": ".py",
   "mimetype": "text/x-python",
   "name": "python",
   "nbconvert_exporter": "python",
   "pygments_lexer": "ipython3",
   "version": "3.5.2"
  }
 },
 "nbformat": 4,
 "nbformat_minor": 0
}
