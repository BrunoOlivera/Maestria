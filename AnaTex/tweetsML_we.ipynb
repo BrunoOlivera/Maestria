{
 "cells": [
  {
   "cell_type": "markdown",
   "metadata": {
    "colab_type": "text",
    "id": "cYySPW4nFUC5"
   },
   "source": [
    "# Machine Learning con atributos para clasificación de tweets por polaridad\n",
    "\n",
    "En este laboratorio se trabajará con un corpus creado a partir de los corpus del TASS (2017 y 2018) (http://www.sepln.org/workshops/tass/).\n",
    "\n"
   ]
  },
  {
   "cell_type": "code",
   "execution_count": null,
   "metadata": {
    "colab": {},
    "colab_type": "code",
    "collapsed": true,
    "id": "HppkxukK0d4B"
   },
   "outputs": [],
   "source": [
    "# Ejecutar este fragmento si se ejecuta en colab\n",
    "# Debes autorizar a colab a acceder a tus archivos\n",
    "from google.colab import drive\n",
    "import os\n",
    "drive.mount('/lab')\n",
    "\n",
    "# En esta variable va la carpeta donde están los laboratorios\n",
    "carpeta_laboratorios = ''\n",
    "\n",
    "path_laboratorios = '/lab/My Drive/' + carpeta_laboratorios + '/'\n",
    "print('Los archivos en tu carpeta de laboratoros son:')\n",
    "os.listdir(path_laboratorios)"
   ]
  },
  {
   "cell_type": "markdown",
   "metadata": {
    "colab_type": "text",
    "id": "wOhveGs5CTW5"
   },
   "source": [
    "# Carga de la información de los tweets\n",
    "\n",
    "Complete el siguiente código de modo de cargar un corpus (archivo csv) y retornar un vector con los tweets y un vector con las polaridades."
   ]
  },
  {
   "cell_type": "code",
   "execution_count": 26,
   "metadata": {
    "colab": {},
    "colab_type": "code",
    "collapsed": true,
    "id": "dVXNwLxf8hkJ"
   },
   "outputs": [],
   "source": [
    "import csv\n",
    "import numpy as np\n",
    "        \n",
    "def load_corpus(corpusFile):\n",
    "    with open(corpusFile, encoding='utf8', newline='') as csvfile:\n",
    "        tweets = list(csv.reader(csvfile, delimiter=','))\n",
    "    polarities = [] # polaridades\n",
    "    originalTweets = [] # tweets\n",
    "    \n",
    "    for t in tweets:\n",
    "        polarities += [t[2]]\n",
    "        originalTweets += [t[1]]\n",
    "\n",
    "    return np.asarray(originalTweets), np.asarray(polarities)\n"
   ]
  },
  {
   "cell_type": "markdown",
   "metadata": {
    "colab_type": "text",
    "id": "OttWkk2uDO2X"
   },
   "source": [
    "\n",
    "# Word embeddings\n",
    "\n",
    "A continuación se generarán features a partir de un modelo de word embeddings.\n",
    "\n",
    "Para esto debe tener en su directorio de trabajo los archivos emb39word2vec.ny y emb39word2vec.txt, que contienen información sobre los vectores asociados a cada palabra. También necesitará el script load_vectors.py que contiene una función para cargar el modelo vectorial.\n",
    "\n",
    "Luego se grafican algunas palabras.\n"
   ]
  },
  {
   "cell_type": "code",
   "execution_count": 5,
   "metadata": {
    "colab": {},
    "colab_type": "code",
    "collapsed": false,
    "id": "HRcrmO-f0LKG"
   },
   "outputs": [],
   "source": [
    "def load_model():\n",
    "    \"\"\"\n",
    "    Carga el modelo de embeddings desde el archivo emb39-word2vec\n",
    "    \"\"\"\n",
    "#   file_name = path_laboratorios + 'emb39-word2vec'\n",
    "    file_name = 'emb39-word2vec'\n",
    "    fname_txt = file_name + '.txt'\n",
    "    fname_npy = file_name + '.npy'\n",
    "\n",
    "    # load npy and txt\n",
    "    npy = np.load(fname_npy)\n",
    "    txt = open(fname_txt, encoding='utf-8').read().splitlines()  \n",
    "\n",
    "    # index str\n",
    "    w2ind = dict()\n",
    "    for ind, wd in enumerate(txt):\n",
    "        w2ind[wd] = ind\n",
    "\n",
    "    # w2v function\n",
    "    def w2v(wd):\n",
    "        default_vector = np.zeros(len(npy[0]))\n",
    "        try:\n",
    "            return npy[w2ind[wd]]\n",
    "        except KeyError:\n",
    "        #      print (wd + ' not found in vecset')\n",
    "          return default_vector\n",
    "\n",
    "    wd2vect = w2v\n",
    "    wd2vect.name = file_name\n",
    "    wd2vect.dim = len(npy[0])\n",
    "    return wd2vect\n",
    "\n",
    "# cargo el modelo vectorial para usar en diferentes secciones del notebook\n",
    "model = load_model()\n"
   ]
  },
  {
   "cell_type": "code",
   "execution_count": 6,
   "metadata": {
    "collapsed": false
   },
   "outputs": [
    {
     "name": "stdout",
     "output_type": "stream",
     "text": [
      "(8, 300)\n"
     ]
    },
    {
     "data": {
      "image/png": "[encoded data removed]",
      "text/plain": [
       "<matplotlib.figure.Figure at 0x1784bf940>"
      ]
     },
     "metadata": {},
     "output_type": "display_data"
    }
   ],
   "source": [
    "# Grafica de palabras relacionadas con representación de embeddings\n",
    "from sklearn.decomposition import PCA\n",
    "from matplotlib import pyplot as plt\n",
    "\n",
    "palabras = ['mujer', 'mujeres', 'niña', 'hombre', 'hombres', 'niño', 'perro', 'gato']\n",
    "representacion = np.array([model(palabra) for palabra in palabras])\n",
    "\n",
    "print(representacion.shape)\n",
    "pca = PCA(n_components=2)\n",
    "representacion_simplificada = pca.fit_transform(representacion)\n",
    "\n",
    "plt.scatter(representacion_simplificada[:, 0], representacion_simplificada[:, 1])\n",
    "for i, palabra in enumerate(palabras):\n",
    "    plt.annotate(palabra, xy=representacion_simplificada[i])\n",
    "plt.show()"
   ]
  },
  {
   "cell_type": "markdown",
   "metadata": {
    "colab_type": "text",
    "id": "jxFJ0KGMI7MP"
   },
   "source": [
    "# Vector promedio de un texto\n",
    "\n",
    "A continuación se define una función para calcular el vector promedio de cada tweet, que luego se utilizará para generar las features.\n"
   ]
  },
  {
   "cell_type": "code",
   "execution_count": 7,
   "metadata": {
    "colab": {},
    "colab_type": "code",
    "collapsed": false,
    "id": "Y4syCevBJFcN",
    "scrolled": true
   },
   "outputs": [
    {
     "name": "stdout",
     "output_type": "stream",
     "text": [
      "[ 0.00527743 -0.03051847 -0.01805547 -0.02098807 -0.04683763  0.00188828\n",
      " -0.02506027  0.04744087  0.00478126 -0.00253134 -0.03299621  0.01502636\n",
      "  0.02851687 -0.07468277 -0.01060372  0.01130159  0.02280355  0.02672255\n",
      "  0.04970116 -0.02191514 -0.00605631 -0.05664644 -0.10332838  0.05276635\n",
      " -0.03397691  0.00046597 -0.02246946  0.10044108 -0.00227039 -0.00092573\n",
      "  0.00085187 -0.07631031 -0.03944316 -0.00296119 -0.01257322 -0.02241019\n",
      " -0.02697387  0.03546646 -0.01543499 -0.00178003  0.00600316 -0.05978292\n",
      " -0.00017447  0.00107361  0.02142896  0.03467507 -0.00762874  0.03775651\n",
      " -0.00659085 -0.01280627 -0.03738788  0.02318161  0.02570691  0.02018406\n",
      " -0.02302102  0.0133812   0.00510983  0.04232084  0.01205959 -0.01071621\n",
      " -0.09970403  0.00477162  0.0433399   0.01505148  0.01839053  0.00470628\n",
      "  0.00989132 -0.03235792  0.03434866  0.00882624  0.03168901  0.01278815\n",
      "  0.0094336  -0.01967809  0.03866809 -0.01264531 -0.083662    0.01362212\n",
      " -0.03618283  0.01253533 -0.06172826  0.01054669 -0.036069    0.03384829\n",
      "  0.04111096  0.0273204  -0.05675801  0.02379059 -0.01391106  0.04022099\n",
      "  0.04692721 -0.00596081 -0.04134529 -0.05633158 -0.02946228  0.00802979\n",
      " -0.03452438  0.03842451  0.01960023  0.06457408 -0.08270282  0.06280182\n",
      " -0.02937498  0.04799496  0.01148341  0.02378063  0.04614035 -0.02060896\n",
      " -0.00797032  0.06479868 -0.05617426  0.03341423 -0.03798153  0.05546312\n",
      " -0.05548384 -0.04794015 -0.06775559 -0.02897407 -0.01461489  0.05797642\n",
      "  0.0029306   0.0117774   0.05353489  0.02811061  0.01770316 -0.01073616\n",
      " -0.04740604  0.04931202 -0.02371258 -0.00083845  0.02716237 -0.00987263\n",
      "  0.0419719  -0.11583219  0.02416663 -0.02467789 -0.01833988  0.03847754\n",
      "  0.07239245  0.00150422  0.00124325 -0.00354396  0.06219395 -0.03661628\n",
      " -0.01625034 -0.02811936 -0.0075867   0.06488704  0.01090714  0.03835691\n",
      " -0.02237958 -0.02030108  0.01197789 -0.02171461  0.04514832 -0.08856066\n",
      "  0.05075825 -0.00217002  0.03116269 -0.02912385  0.01666643 -0.02200516\n",
      " -0.01651885  0.00769481 -0.03493411 -0.00944883 -0.01043152 -0.04561399\n",
      "  0.05239957  0.017894   -0.02196261 -0.05949623  0.01775762  0.01047226\n",
      " -0.0125592  -0.02490253  0.04899536 -0.04948737  0.01809702  0.02977267\n",
      "  0.09711701 -0.04160404  0.00433633  0.02142763  0.00914364  0.01908417\n",
      " -0.00638553  0.01420012  0.03247155  0.04911882  0.03957636  0.0394598\n",
      "  0.0312317  -0.0070297  -0.01320442 -0.036908   -0.030763   -0.02654151\n",
      " -0.11570376 -0.02319346  0.0025187  -0.01476367  0.04735554  0.04268859\n",
      " -0.01554304 -0.02670585 -0.01231413  0.08185144 -0.05034704  0.01845669\n",
      "  0.04217052  0.04713086 -0.03017745  0.00149898  0.00459184  0.00573382\n",
      "  0.01416303 -0.00594071  0.02025335  0.03128758  0.04947218 -0.00863747\n",
      "  0.07049753 -0.0055708   0.06242051  0.00898503 -0.01582836 -0.00706382\n",
      "  0.00487041  0.05555816 -0.05852331  0.04258334  0.02671451  0.07072096\n",
      "  0.02335057 -0.00193247  0.00706402 -0.11458578  0.06071915  0.07747228\n",
      " -0.05384758  0.04651194  0.02621764  0.0325414   0.02060134 -0.00464285\n",
      " -0.01526115 -0.03236099 -0.05023197  0.01420167  0.01070766 -0.02490353\n",
      " -0.00221001  0.03125014  0.04300959 -0.00023481 -0.00416928 -0.01235434\n",
      " -0.08020298 -0.01936506 -0.01488955 -0.04508883  0.01471063 -0.01928915\n",
      "  0.0078552  -0.00594958 -0.06091924 -0.02032997 -0.0514033  -0.00966009\n",
      "  0.09276561  0.03224382 -0.0210146  -0.01786616 -0.00656085 -0.06278659\n",
      " -0.01960451 -0.08531366 -0.00315089 -0.01881808  0.02755833 -0.00758861\n",
      "  0.01627719 -0.04429944  0.01638373  0.00396669 -0.12220447  0.00478835\n",
      " -0.00170969  0.00658201 -0.01670328  0.04766765 -0.04075486 -0.03778785\n",
      "  0.04334951 -0.04537705 -0.05125437 -0.03809298  0.07030924  0.0323884 ]\n",
      "[ 0.  0.  0.  0.  0.  0.  0.  0.  0.  0.  0.  0.  0.  0.  0.  0.  0.  0.\n",
      "  0.  0.  0.  0.  0.  0.  0.  0.  0.  0.  0.  0.  0.  0.  0.  0.  0.  0.\n",
      "  0.  0.  0.  0.  0.  0.  0.  0.  0.  0.  0.  0.  0.  0.  0.  0.  0.  0.\n",
      "  0.  0.  0.  0.  0.  0.  0.  0.  0.  0.  0.  0.  0.  0.  0.  0.  0.  0.\n",
      "  0.  0.  0.  0.  0.  0.  0.  0.  0.  0.  0.  0.  0.  0.  0.  0.  0.  0.\n",
      "  0.  0.  0.  0.  0.  0.  0.  0.  0.  0.  0.  0.  0.  0.  0.  0.  0.  0.\n",
      "  0.  0.  0.  0.  0.  0.  0.  0.  0.  0.  0.  0.  0.  0.  0.  0.  0.  0.\n",
      "  0.  0.  0.  0.  0.  0.  0.  0.  0.  0.  0.  0.  0.  0.  0.  0.  0.  0.\n",
      "  0.  0.  0.  0.  0.  0.  0.  0.  0.  0.  0.  0.  0.  0.  0.  0.  0.  0.\n",
      "  0.  0.  0.  0.  0.  0.  0.  0.  0.  0.  0.  0.  0.  0.  0.  0.  0.  0.\n",
      "  0.  0.  0.  0.  0.  0.  0.  0.  0.  0.  0.  0.  0.  0.  0.  0.  0.  0.\n",
      "  0.  0.  0.  0.  0.  0.  0.  0.  0.  0.  0.  0.  0.  0.  0.  0.  0.  0.\n",
      "  0.  0.  0.  0.  0.  0.  0.  0.  0.  0.  0.  0.  0.  0.  0.  0.  0.  0.\n",
      "  0.  0.  0.  0.  0.  0.  0.  0.  0.  0.  0.  0.  0.  0.  0.  0.  0.  0.\n",
      "  0.  0.  0.  0.  0.  0.  0.  0.  0.  0.  0.  0.  0.  0.  0.  0.  0.  0.\n",
      "  0.  0.  0.  0.  0.  0.  0.  0.  0.  0.  0.  0.  0.  0.  0.  0.  0.  0.\n",
      "  0.  0.  0.  0.  0.  0.  0.  0.  0.  0.  0.  0.]\n"
     ]
    }
   ],
   "source": [
    "def mean_vector_text(text):\n",
    "    \n",
    "    vectors = [model(word) for word in text if model(word).any()]\n",
    "    meanvec = (sum(vectors) / len(vectors)) if vectors else np.zeros(300)\n",
    "\n",
    "    return meanvec\n",
    "\n",
    "\n",
    "# pruebe la función mean_vector_text con los siguientes textos: \n",
    "# ['estoy', 'en', 'la', 'facultad', 'trabajando']\n",
    "# ['facxladtx']\n",
    "\n",
    "### completar\n",
    "l = [['estoy', 'en', 'la', 'facultad', 'trabajando'],['facxladtx']]\n",
    "for elem in l:\n",
    "    print(mean_vector_text(elem))\n"
   ]
  },
  {
   "cell_type": "markdown",
   "metadata": {},
   "source": [
    "# Generación de features \n",
    "\n",
    "En este bloque se cargan los corpus de tweets y se calcula el vector promedio de cada tweet.\n",
    "\n",
    "Los 300 valores reales correspondientes al vector promedio de un twwet serán las features para entrenamiento.\n",
    "\n",
    "Luego de generar las features, pruebe los clasificadores de la última sección del notebook.\n"
   ]
  },
  {
   "cell_type": "code",
   "execution_count": 28,
   "metadata": {
    "collapsed": false
   },
   "outputs": [
    {
     "name": "stdout",
     "output_type": "stream",
     "text": [
      "(2943,)\n",
      "(1133,)\n",
      "(2943, 300)\n",
      "(1133, 300)\n"
     ]
    }
   ],
   "source": [
    "# cargar info de los corpus train (para entrenar) y devel (para evaluar experimentos) \n",
    "# origTrain, polTrain = load_corpus(path_laboratorios + 'train3000.csv')\n",
    "# origDevel, polDevel = load_corpus(path_laboratorios + 'devel.csv')\n",
    "origTrain, polTrain = load_corpus('train3000.csv')\n",
    "# origTrain, polTrain = load_corpus('train.csv')\n",
    "origDevel, polDevel = load_corpus('devel.csv')\n",
    "\n",
    "# imprima algunos tweets y su polaridad para verificar que la carga del corpus sea correcta\n",
    "\n",
    "### completar\n",
    "print(origTrain.shape)\n",
    "print(origDevel.shape)\n",
    "\n",
    "\n",
    "# generación de features: \n",
    "# para cada tweet se van a generar 300 features, \n",
    "# que son los 300 valores reales del vector promedio \n",
    "# de los vectores de todas las palabras del tweet\n",
    "\n",
    "# completar función para calcular el mean vector de cada tweet de un corpus\n",
    "def tweetsMeanVec(tweets):\n",
    "\n",
    "    ### completar\n",
    "    twsMV = [mean_vector_text(t) for t in tweets]\n",
    "\n",
    "    return np.asarray(twsMV)\n",
    "\n",
    "# genere las features para los tweets del corpus 'train'\n",
    "trainMV = tweetsMeanVec(origTrain)\n",
    "\n",
    "\n",
    "# genere las features para los tweets del corpus 'devel'\n",
    "develMV = tweetsMeanVec(origDevel)\n",
    "\n",
    "\n",
    "# imprima los tamaños de las matrices generadas \n",
    "\n",
    "### completar\n",
    "print(trainMV.shape)\n",
    "print(develMV.shape)"
   ]
  },
  {
   "cell_type": "markdown",
   "metadata": {
    "colab_type": "text",
    "id": "ssAIxwl9PONr"
   },
   "source": [
    "# Léxico subjetivo\n",
    "\n",
    "En esta sección vamos a incluir features basadas en un léxico subjetivo, además de las features basadas en el vector promedio del tweet.\n",
    "\n",
    "El léxico contiene todas las formas correspondientes a cada lema. Está organizado en dos archivos csv, uno con palabras positivas y otro con palabras negativas.\n",
    "\n",
    "Se provee una función para cargar el léxico.\n",
    "\n",
    "Piense de qué forma usar el léxico para generar features, aplicando alguna de las ideas siguientes (u otras): contar cantidad de palabras incluidas en los léxicos, calcular distancias de las palabras del tweet a las palabras de los léxicos (usando los embeddings) o al vector promedio de cada léxico, calcular distancia del vector promedio del tweet a las palabras del léxico, etc. \n",
    "\n",
    "\n",
    "Luego vuelva a probar los dos clasificadores de la última sección.\n"
   ]
  },
  {
   "cell_type": "code",
   "execution_count": 42,
   "metadata": {
    "colab": {},
    "colab_type": "code",
    "collapsed": false,
    "id": "pjYx_KGHPoju"
   },
   "outputs": [
    {
     "name": "stdout",
     "output_type": "stream",
     "text": [
      "(2943, 4)\n",
      "(2943, 4)\n"
     ]
    },
    {
     "name": "stderr",
     "output_type": "stream",
     "text": [
      "/Users/Bruno/anaconda/lib/python3.5/site-packages/ipykernel/__main__.py:30: RuntimeWarning: invalid value encountered in double_scalars\n",
      "/Users/Bruno/anaconda/lib/python3.5/site-packages/ipykernel/__main__.py:31: RuntimeWarning: invalid value encountered in double_scalars\n"
     ]
    },
    {
     "name": "stdout",
     "output_type": "stream",
     "text": [
      "(1133, 4)\n",
      "(1133, 4)\n",
      "=> (2943, 300)\n",
      "=> (2943, 4)\n",
      "1 (2943,)\n",
      "2 (1133,)\n",
      "3 (2943, 304)\n",
      "4 (1133, 304)\n"
     ]
    }
   ],
   "source": [
    "from numpy import dot\n",
    "from numpy.linalg import norm\n",
    "import scipy\n",
    "\n",
    "def read_lexicon(lex_file):\n",
    "    # cargo lexico\n",
    "    with open(lex_file, encoding='utf8') as lex:\n",
    "        lex_list = []\n",
    "        for word in lex:\n",
    "            lex_list.append(word.rstrip('\\r\\n').lower())\n",
    "    return lex_list\n",
    "\n",
    "def getLexFeats(tweets, posLex, negLex, feats):\n",
    "    # aplique alguna idea de las sugeridas u otras que usted defina para calcular features basadas en léxicos\n",
    "    posLexMeanWE = mean_vector_text(posLex)\n",
    "    negLexMeanWE = mean_vector_text(negLex)\n",
    "#     print(posLexMeanWE)\n",
    "#     print(negLexMeanWE)\n",
    "    \n",
    "    ### completar\n",
    "    res = np.zeros((np.shape(tweets)[0],4))\n",
    "    print(np.shape(res))\n",
    "    ### completar\n",
    "    for i,t in enumerate(tweets):\n",
    "        for w in t.split():\n",
    "            if w in posLex:\n",
    "                res[i,0] += 1\n",
    "            if w in negLex:\n",
    "                res[i,1] += 1\n",
    "        distPos = dot(feats[i], posLexMeanWE)/(norm(feats[i])*norm(posLexMeanWE))\n",
    "        distNeg = dot(feats[i], negLexMeanWE)/(norm(feats[i])*norm(negLexMeanWE))\n",
    "        res[i,2] = distPos\n",
    "        res[i,3] = distNeg\n",
    "    print(res.shape)\n",
    "    return res\n",
    "    \n",
    "\n",
    "\n",
    "# construyo features basadas en léxicos para train y devel\n",
    "# cargo léxicos\n",
    "# posLex = set(read_lexicon(path_laboratorios + 'lexico_pos_palabras_grande.csv'))\n",
    "# negLex = set(read_lexicon(path_laboratorios + 'lexico_neg_palabras_grande.csv'))\n",
    "posLex = set(read_lexicon('lexico_pos_palabras_grande.csv'))\n",
    "negLex = set(read_lexicon('lexico_neg_palabras_grande.csv'))\n",
    "\n",
    "# obtengo features para train y devel\n",
    "lexFeatsTrain = getLexFeats(origTrain, posLex, negLex, trainMV)\n",
    "lexFeatsDevel = getLexFeats(origDevel, posLex, negLex, develMV)\n",
    "\n",
    "\n",
    "# verifico los valores obtenidos\n",
    "print(\"=>\",trainMV.shape)\n",
    "print(\"=>\",lexFeatsTrain.shape)\n",
    "\n",
    "\n",
    "# combino features obtenidas a partir del vector promedio con features basadas en léxico\n",
    "trainMVLex = np.hstack((trainMV, lexFeatsTrain))\n",
    "develMVLex = np.hstack((develMV, lexFeatsDevel))\n",
    "# trainMVLex = scipy.sparse.hstack((trainMV, lexFeatsTrain))\n",
    "# develMVLex = scipy.sparse.hstack((develMV, lexFeatsDevel))\n",
    "\n",
    "\n",
    "# verifico dimensiones\n",
    "print(\"1\",origTrain.shape)\n",
    "print(\"2\",origDevel.shape)\n",
    "print(\"3\",trainMVLex.shape)\n",
    "print(\"4\",develMVLex.shape)\n",
    "\n"
   ]
  },
  {
   "cell_type": "markdown",
   "metadata": {
    "colab_type": "text",
    "id": "XbBcTeYbNSQ7"
   },
   "source": [
    "# Clasificadores\n",
    "\n",
    "Entrene dos clasificadores: Multilayer Perceptron y SVM para probar las diferentes configuraciones de features que desee.\n",
    "\n",
    "Imprima accuracy de cada clasificador.\n"
   ]
  },
  {
   "cell_type": "code",
   "execution_count": 51,
   "metadata": {
    "colab": {},
    "colab_type": "code",
    "collapsed": false,
    "id": "z7JztfV294NM"
   },
   "outputs": [
    {
     "name": "stdout",
     "output_type": "stream",
     "text": [
      "MLP:  0.317740511915\n",
      "MLP (+lex):  0.364518976169\n",
      "SVM:  0.406884377758\n",
      "SVM (+lex):  0.499558693733\n"
     ]
    }
   ],
   "source": [
    "# clasificadores\n",
    "\n",
    "# Normalización de atributos\n",
    "from sklearn.preprocessing import StandardScaler\n",
    "scaler = StandardScaler()\n",
    "\n",
    "X_train = scaler.fit_transform(trainMV)\n",
    "X_devel = scaler.transform(develMV)\n",
    "\n",
    "# Para un segundo experimento usando el léxico, utilice estas features\n",
    "trainMVLex[np.isnan(trainMVLex)] = 0\n",
    "develMVLex[np.isnan(develMVLex)] = 0\n",
    "X_train_lex = scaler.fit_transform(trainMVLex)\n",
    "X_devel_lex = scaler.transform(develMVLex)\n",
    "\n",
    "\n",
    "# Multi Layer Perceptron (MLP)\n",
    "from sklearn.neural_network import MLPClassifier\n",
    "\n",
    "clf_mlp = MLPClassifier(activation='logistic', hidden_layer_sizes=(150,100,50), max_iter=500)\n",
    "clf_mlp_lex = MLPClassifier(activation='logistic', hidden_layer_sizes=(150,100,50), max_iter=500)\n",
    "## utilice fit para entrenar y score para obtener la accuracy\n",
    "### completar\n",
    "clf_mlp.fit(X_train,polTrain)\n",
    "print(\"MLP: \",clf_mlp.score(X_devel, polDevel))\n",
    "clf_mlp_lex.fit(X_train_lex,polTrain)\n",
    "print(\"MLP (+lex): \",clf_mlp_lex.score(X_devel_lex, polDevel))\n",
    "\n",
    "\n",
    "# SVM\n",
    "from sklearn.svm import SVC\n",
    "\n",
    "clf_svm = SVC()\n",
    "clf_svm_lex = SVC()\n",
    "## utilice fit para entrenar y score para obtener la accuracy\n",
    "### completar\n",
    "clf_svm.fit(X_train,polTrain)\n",
    "print(\"SVM: \", clf_svm.score(X_devel, polDevel))\n",
    "clf_svm_lex.fit(X_train_lex,polTrain)\n",
    "print(\"SVM (+lex): \", clf_svm_lex.score(X_devel_lex, polDevel))"
   ]
  },
  {
   "cell_type": "markdown",
   "metadata": {
    "colab_type": "text",
    "id": "gVjHkT-TNmru"
   },
   "source": [
    "# Preguntas finales\n",
    "\n",
    "1. ¿Qué features son mejores para cada clasificador?\n",
    "\n",
    "2. Calcule precision, recall y F1 para cada clase, analice para qué clase se obtienen los mejores/peores resultados.\n",
    "\n",
    "3. Elija los mejores atributos para cada clasificador y evalúe sobre el corpus 'test'.\n",
    "\n",
    "4. Opcional: Pruebe otras combinaciones de features y otros clasificadores.\n"
   ]
  },
  {
   "cell_type": "code",
   "execution_count": null,
   "metadata": {
    "collapsed": true
   },
   "outputs": [],
   "source": []
  }
 ],
 "metadata": {
  "colab": {
   "name": "tweetsML_BOW.ipynb",
   "provenance": []
  },
  "kernelspec": {
   "display_name": "Python [default]",
   "language": "python",
   "name": "python3"
  },
  "language_info": {
   "codemirror_mode": {
    "name": "ipython",
    "version": 3
   },
   "file_extension": ".py",
   "mimetype": "text/x-python",
   "name": "python",
   "nbconvert_exporter": "python",
   "pygments_lexer": "ipython3",
   "version": "3.5.2"
  }
 },
 "nbformat": 4,
 "nbformat_minor": 1
}
